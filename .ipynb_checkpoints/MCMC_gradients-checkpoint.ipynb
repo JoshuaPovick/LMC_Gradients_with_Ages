{
 "cells": [
  {
   "cell_type": "code",
   "execution_count": 7,
   "metadata": {},
   "outputs": [],
   "source": [
    "##################################\n",
    "### Import the usual libraries ###\n",
    "##################################\n",
    "\n",
    "### Numpy\n",
    "import numpy as np\n",
    "\n",
    "### Astropy\n",
    "import astropy\n",
    "\n",
    "#Astropy FITS/Table handling\n",
    "from astropy.io import fits, ascii\n",
    "from astropy.table import Table, Column\n",
    "\n",
    "#astropy coorindates/units\n",
    "from astropy.coordinates import SkyCoord\n",
    "import astropy.constants as const\n",
    "import astropy.units as u\n",
    "\n",
    "### Matplotlib\n",
    "import matplotlib\n",
    "import matplotlib.pyplot as plt\n",
    "%matplotlib inline\n",
    "matplotlib.rcParams.update({'font.size': 18}) #make plots more readable\n",
    "import matplotlib.patches as mpatches\n",
    "from matplotlib.ticker import MultipleLocator, FormatStrFormatter, AutoMinorLocator\n",
    "from matplotlib.offsetbox import AnchoredText\n",
    "\n",
    "## Stuff Writtten by A Really Cool Professor\n",
    "import dlnpyutils as dlpu\n",
    "\n",
    "# ###\n",
    "# import linearfitting as linfit\n",
    "import lmcgeometry as lgeo\n",
    "\n",
    "import mlefitting as mlefit\n",
    "import olsfitting as olsfit\n",
    "import utilities as util\n",
    "\n",
    "### Other\n",
    "import warnings\n",
    "warnings.filterwarnings('ignore')\n",
    "\n",
    "from tqdm import tqdm_notebook\n",
    "\n",
    "### Age of Universe\n",
    "H0 = 74.03*(u.km/u.s)/u.Mpc\n",
    "hertz = H0.to(u.km/u.s/u.pc).to(u.km/u.s/u.km)\n",
    "tage = (1/hertz).to(u.yr)\n",
    "ageU = tage.value"
   ]
  },
  {
   "cell_type": "code",
   "execution_count": 3,
   "metadata": {},
   "outputs": [],
   "source": [
    "# PARSEC Isochrones\n",
    "parsecall = ascii.read('/Users/joshpovick/Desktop/Research/LMC_Gradients_with_Ages/parsec3_3.dat', \\\n",
    "                    format='basic', delimiter='\\s')\n",
    "\n",
    "rgb = np.where(parsecall['label']==3)\n",
    "parsec = parsecall[rgb]\n",
    "\n",
    "# LMC r13 data\n",
    "lmc = fits.getdata('/Users/joshpovick/Desktop/Research/LMC_Ages/lmc_rgbmembers.r13-l33-58672.fits.gz',1)\n",
    "cln = np.where((lmc['FE_H']>-9999.0)&(lmc['AK_TARG']>-9999.0)&(lmc['LOGG']>0.0)&(lmc['M_H_ERR']>-90.0)&\n",
    "                (lmc['C_FE']>-9999.0)&(lmc['N_FE']>-9999.0))\n",
    "\n",
    "lmc = lmc[cln]"
   ]
  },
  {
   "cell_type": "code",
   "execution_count": 9,
   "metadata": {},
   "outputs": [],
   "source": [
    "### Radii LMC\n",
    "x,y,dist = lgeo.LMCdisk_cart(lmc['RA'],lmc['DEC'])\n",
    "radius = lgeo.elliptical_radius(x,y)\n",
    "     \n",
    "### All elements APOGEE measures abundances for\n",
    "elems = ['M_H','C_FE','N_FE','O_FE','NA_FE','MG_FE','AL_FE','SI_FE','P_FE','S_FE','K_FE','CA_FE','TI_FE',\n",
    "         'TIII_FE','V_FE','CR_FE','MN_FE','FE_H','CO_FE','NI_FE','CU_FE','GE_FE','RB_FE','CE_FE','ND_FE','YB_FE']\n",
    "elems_err = ['M_H_ERR','C_FE_ERR','N_FE_ERR','O_FE_ERR','NA_FE_ERR','MG_FE_ERR','AL_FE_ERR','SI_FE_ERR',\n",
    "             'P_FE_ERR','S_FE_ERR','K_FE_ERR','CA_FE_ERR','TI_FE_ERR','TIII_FE_ERR','V_FE_ERR','CR_FE_ERR',\n",
    "             'MN_FE_ERR','FE_H_ERR','CO_FE_ERR','NI_FE_ERR','CU_FE_ERR','GE_FE_ERR','RB_FE_ERR','CE_FE_ERR',\n",
    "             'ND_FE_ERR','YB_FE_ERR']\n",
    "\n",
    "labs = ['[M/H]','[C/Fe]','[N/Fe]','[O/Fe]','[Na/Fe]','[Mg/Fe]','[Al/Fe]','[Si/Fe]','[P/Fe]','[S/Fe]','[K/Fe]',\n",
    "        '[Ca/Fe','[Ti/FE]','[Ti II/Fe]','[V/Fe]','[Cr/Fe]','[Mn/Fe]','[Fe/H]','[Co/Fe]','[Ni/Fe]','[Cu/Fe]',\n",
    "        '[Ge/Fe]','[Rb/Fe]','[Ce/Fe]','[Nd/Fe]','[Yb/FE]']"
   ]
  },
  {
   "cell_type": "code",
   "execution_count": 55,
   "metadata": {},
   "outputs": [],
   "source": [
    "#####################\n",
    "### MLE Functions ###\n",
    "#####################\n",
    "\n",
    "from scipy.optimize import minimize\n",
    "from scipy.stats import binned_statistic\n",
    "\n",
    "def mad(dat):\n",
    "    '''\n",
    "    Calculate the median absolute deviation (MAD)\n",
    "    \n",
    "    Parameters:\n",
    "    ----------\n",
    "        dat: array-like object containing data\n",
    "    \n",
    "    Returns:\n",
    "    -------\n",
    "        dev: MAD(dat)\n",
    "    '''\n",
    "    dev = np.median(np.absolute(dat - np.median(dat)))\n",
    "    return dev\n",
    "\n",
    "def linmodl(m,b,x):\n",
    "    '''\n",
    "    Slope-intercept form of a line\n",
    "    \n",
    "    Parameters:\n",
    "    ----------\n",
    "        m: slope of line\n",
    "        x: exog of line\n",
    "        b: intercept of line\n",
    "        \n",
    "    Returns:\n",
    "    -------\n",
    "        y: endog of line\n",
    "    '''\n",
    "    y = m*x + b\n",
    "    return y\n",
    "\n",
    "def lnL(theta,x,y,yerr):\n",
    "    '''\n",
    "    Log likelihood for linmodl\n",
    "    \n",
    "    Parameters:\n",
    "    ----------\n",
    "        theta: parameters to plug into linmodl (m,b)\n",
    "        x: exog of line\n",
    "        y: endog of line\n",
    "        yerr: endog error\n",
    "    \n",
    "    Returns:\n",
    "    -------\n",
    "        lnl: log likelihood \n",
    "    '''\n",
    "    \n",
    "    m, b = theta #, msig, bsig = theta\n",
    "    modl = linmodl(m,b,x)\n",
    "    #sigmodl = linmodl(msig,bsig,x)\n",
    "    inv_sig2 = np.reciprocal(np.square(yerr))#+np.square(sigmodl))\n",
    "    lnl = -0.5 * np.sum(np.multiply(np.square((y - modl)),inv_sig2) - np.log(inv_sig2/(2*np.pi)))\n",
    "    return lnl\n",
    "\n",
    "# def mle_fit(exog,endog,endog_err):\n",
    "#     '''\n",
    "#     Do a MLE fit of median abundances as function (y = mx + b) of radius\n",
    "#     using unbinned data\n",
    "    \n",
    "#     Parameters:\n",
    "#     ----------\n",
    "#         exog: radii for stars\n",
    "#         endog: abundances for stars\n",
    "#         endog_err: errors in abund\n",
    "#     Returns:\n",
    "#     -------\n",
    "#         med_m: slope of line fit\n",
    "#         med_b: intercept of line fit\n",
    "#     '''\n",
    "    \n",
    "#     #Calculate bins\n",
    "#     bins = np.arange(np.floor(np.min(exog)),np.ceil(np.max(exog)),1.0) \n",
    "    \n",
    "#     #Calcuradius[cln]late median value for each bin\n",
    "#     bin_stats, _, _ = binned_statistic(exog,endog,statistic='median',bins=bins)\n",
    "    \n",
    "#     #Calculate spread (MAD) in values in each bin\n",
    "#     bin_stats_err, _, _ = binned_statistic(exog,endog,statistic=lambda y: np.median(np.absolute(y-np.median(y))),\n",
    "#                                            bins=bins)\n",
    "    \n",
    "#     #Initialize MLE calculation\n",
    "#     med_exog = np.arange(len(bin_stats))+0.5\n",
    "#     med_endog = bin_stats\n",
    "#     med_endog_err = bin_stats_err\n",
    "    \n",
    "#     med_m_guess = (bin_stats[1]-bin_stats[0])/(med_exog[1]-med_exog[0])\n",
    "#     med_b_guess = bin_stats[0]\n",
    "    \n",
    "#     # minimize MLE and find slopes and intercepts\n",
    "#     nll = lambda *args: -lnL(*args)\n",
    "#     med_guess = np.array([med_m_guess, med_b_guess])\n",
    "#     med_soln = minimize(nll, med_guess, args=(med_exog, med_endog, med_endog_err))\n",
    "#     med_m_ml, med_b_ml = med_soln.x\n",
    "    \n",
    "#     return med_m_ml, med_b_ml"
   ]
  },
  {
   "cell_type": "code",
   "execution_count": 56,
   "metadata": {},
   "outputs": [],
   "source": [
    "######################\n",
    "### MCMC Functions ###\n",
    "######################\n",
    "\n",
    "def lnPrior(theta):\n",
    "    m, b = theta #, msig, bsig = theta\n",
    "    if -0.5 < m < 0.5 and -2.0 < b < 2.0: #and -1.0 < msig < 1.0 and -4.0 < bsig < 4.0:\n",
    "        return 0.0\n",
    "    return -np.inf\n",
    "\n",
    "def lnProb(theta, x, y, yerr):\n",
    "    lnP = lnPrior(theta)\n",
    "    if not np.isfinite(lnP):\n",
    "        return -np.inf\n",
    "    return lnP + lnL(theta, x, y, yerr)"
   ]
  },
  {
   "cell_type": "code",
   "execution_count": 57,
   "metadata": {},
   "outputs": [],
   "source": [
    "# med_ms = []\n",
    "# med_bs = []\n",
    "\n",
    "# ### Initial fit\n",
    "# for i in tqdm_notebook(range(len(elems)-5),desc='Done?'):\n",
    "    \n",
    "#     # clean up data\n",
    "#     cln = np.where((r13[elems[i]]>-100)&(r13['SNR']>=100))\n",
    "    \n",
    "#     # fit data\n",
    "#     slope, inter = mle.mle_fit(radius[cln],r13[elems[i]][cln],r13[elems_err[i]][cln])\n",
    "#     med_ms.append(slope)\n",
    "#     med_bs.append(inter)"
   ]
  },
  {
   "cell_type": "code",
   "execution_count": 65,
   "metadata": {},
   "outputs": [
    {
     "name": "stderr",
     "output_type": "stream",
     "text": [
      "\r",
      "  0%|          | 0/5000 [00:00<?, ?it/s]"
     ]
    },
    {
     "name": "stdout",
     "output_type": "stream",
     "text": [
      "Bad Guess\n",
      "[-0.007299959659576416, -0.6433615684509277]\n"
     ]
    },
    {
     "name": "stderr",
     "output_type": "stream",
     "text": [
      "100%|██████████| 5000/5000 [02:45<00:00, 30.16it/s]\n"
     ]
    }
   ],
   "source": [
    "############\n",
    "### MCMC ###\n",
    "############\n",
    "\n",
    "import emcee\n",
    "\n",
    "i = 0\n",
    "cln = np.where((lmc[elems[i]]>-100.)&(lmc['SNR']>=100))\n",
    "\n",
    "rad_cln = radius[cln]\n",
    "elem_cln = lmc[elems[i]][cln]\n",
    "elem_cln_err = lmc[elems[i]+'_ERR'][cln]\n",
    "\n",
    "### Initial Guess\n",
    "bins = np.arange(np.floor(np.min(rad_cln)),np.ceil(np.max(rad_cln)),1.0)\n",
    "bin_stats, _, _ = binned_statistic(rad_cln,elem_cln,statistic='median',bins=bins)\n",
    "# bin_stats_err, _, _ = binned_statistic(rad_cln,elem_cln,\n",
    "#                                        statistic=lambda y: np.median(np.absolute(y-np.median(y))),bins=bins)\n",
    "\n",
    "bin_x = np.arange(len(bin_stats))+0.5\n",
    "m_guess = (bin_stats[1]-bin_stats[0])/(bin_x[1]-bin_x[0])\n",
    "b_guess = bin_stats[0]\n",
    "#msig_guess = (bin_stats_err[1]-bin_stats_err[0])/(bin_x[1]-bin_x[0])\n",
    "#bsig_guess = bin_stats_err[0]\n",
    "guess = [m_guess,b_guess]#,msig_guess,bsig_guess]\n",
    "\n",
    "nll = lambda *args: -lnL(*args)\n",
    "result = minimize(nll, guess, args=(rad_cln, elem_cln, elem_err_cln))\n",
    "\n",
    "if not np.isfinite(lnProb(guess,rad_cln,elem_cln,elem_cln_err)):\n",
    "    guess = result.x\n",
    "else:\n",
    "    print('Bad Guess')\n",
    "    print(guess)\n",
    "\n",
    "niter = 900\n",
    "ndim, nwalkers = 2,500 \n",
    "pos = [guess + (10**-3)*np.random.randn(ndim) for i in range(nwalkers)]\n",
    "\n",
    "sampler = emcee.EnsembleSampler(nwalkers, ndim, lnProb, args=(rad_cln, elem_cln, elem_err_cln))\n",
    "pos, prob, state = sampler.run_mcmc(pos, 5000, progress=True);\n",
    "# sampler.reset()\n",
    "\n",
    "# # sampler.run_mcmc(pos, niter)\n",
    "# printStep = int(niter/2)\n",
    "# last = time.time()\n",
    "# for i, res in enumerate(sampler.sample(pos, iterations=niter)):\n",
    "#     if (i+1) % printStep ==0:\n",
    "#         now = time.time()\n",
    "#         print(\"{:s} {:5.1%} {:5.1f}\".format(\"mcmc\", float(i) / niter, int(now-last)))\n",
    "#         last = time.time()\n",
    "\n",
    "# frac = sampler.acceptance_fraction\n",
    "\n",
    "# accepted = frac[np.array(frac) > 0.25]\n",
    "\n",
    "# print(len(accepted), len(frac))\n",
    "\n",
    "\n",
    "\n",
    "\n"
   ]
  },
  {
   "cell_type": "code",
   "execution_count": 66,
   "metadata": {},
   "outputs": [
    {
     "data": {
      "image/png": "[encoded data removed]",
      "text/plain": [
       "<Figure size 720x720 with 2 Axes>"
      ]
     },
     "metadata": {
      "needs_background": "light"
     },
     "output_type": "display_data"
    }
   ],
   "source": [
    "fig, axes = plt.subplots(2, figsize=(10, 10), sharex=True)\n",
    "samples = sampler.get_chain()\n",
    "labels = [\"m\", \"b\"]#, r\"m$_\\sigma$\",r\"b$_\\sigma$\"]\n",
    "for i in range(ndim):\n",
    "    ax = axes[i]\n",
    "    ax.plot(samples[:, :, i], \"k\", alpha=0.3)\n",
    "    ax.set_xlim(0, len(samples))\n",
    "    ax.set_ylabel(labels[i])\n",
    "    ax.yaxis.set_label_coords(-0.1, 0.5)\n",
    "\n",
    "axes[-1].set_xlabel(\"step number\");"
   ]
  },
  {
   "cell_type": "code",
   "execution_count": 67,
   "metadata": {},
   "outputs": [
    {
     "name": "stdout",
     "output_type": "stream",
     "text": [
      "[43.948119   45.36230269]\n"
     ]
    }
   ],
   "source": [
    "tau = sampler.get_autocorr_time()\n",
    "print(tau)"
   ]
  },
  {
   "cell_type": "code",
   "execution_count": 68,
   "metadata": {},
   "outputs": [
    {
     "name": "stdout",
     "output_type": "stream",
     "text": [
      "(163000, 2)\n"
     ]
    }
   ],
   "source": [
    "flat_samples = sampler.get_chain(discard=100, thin=15, flat=True)\n",
    "print(flat_samples.shape)"
   ]
  },
  {
   "cell_type": "code",
   "execution_count": 69,
   "metadata": {},
   "outputs": [
    {
     "data": {
      "image/png": "[encoded data removed]",
      "text/plain": [
       "<Figure size 396x396 with 4 Axes>"
      ]
     },
     "metadata": {
      "needs_background": "light"
     },
     "output_type": "display_data"
    }
   ],
   "source": [
    "import corner\n",
    "\n",
    "corner.corner(flat_samples, labels=labels);"
   ]
  },
  {
   "cell_type": "code",
   "execution_count": 71,
   "metadata": {},
   "outputs": [
    {
     "data": {
      "text/latex": [
       "$\\displaystyle \\mathrm{m} = -0.061_{-0.000}^{0.000}$"
      ],
      "text/plain": [
       "<IPython.core.display.Math object>"
      ]
     },
     "metadata": {},
     "output_type": "display_data"
    },
    {
     "data": {
      "text/latex": [
       "$\\displaystyle \\mathrm{b} = -0.494_{-0.001}^{0.001}$"
      ],
      "text/plain": [
       "<IPython.core.display.Math object>"
      ]
     },
     "metadata": {},
     "output_type": "display_data"
    }
   ],
   "source": [
    "from IPython.display import display, Math\n",
    "\n",
    "for i in range(ndim):\n",
    "    mcmc = np.percentile(flat_samples[:, i], [16, 50, 84])\n",
    "    q = np.diff(mcmc)\n",
    "    txt = \"\\mathrm{{{3}}} = {0:.3f}_{{-{1:.3f}}}^{{{2:.3f}}}\"\n",
    "    txt = txt.format(mcmc[1], q[0], q[1], labels[i])\n",
    "    display(Math(txt))"
   ]
  },
  {
   "cell_type": "code",
   "execution_count": null,
   "metadata": {},
   "outputs": [],
   "source": []
  }
 ],
 "metadata": {
  "kernelspec": {
   "display_name": "Python 3",
   "language": "python",
   "name": "python3"
  },
  "language_info": {
   "codemirror_mode": {
    "name": "ipython",
    "version": 3
   },
   "file_extension": ".py",
   "mimetype": "text/x-python",
   "name": "python",
   "nbconvert_exporter": "python",
   "pygments_lexer": "ipython3",
   "version": "3.7.6"
  }
 },
 "nbformat": 4,
 "nbformat_minor": 4
}
