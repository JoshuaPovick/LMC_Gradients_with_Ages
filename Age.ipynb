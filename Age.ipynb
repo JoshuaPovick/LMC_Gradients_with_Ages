{
 "cells": [
  {
   "cell_type": "code",
   "execution_count": 1,
   "metadata": {},
   "outputs": [],
   "source": [
    "##################################\n",
    "### Import the usual libraries ###\n",
    "##################################\n",
    "\n",
    "### Numpy\n",
    "import numpy as np\n",
    "\n",
    "### Astropy\n",
    "import astropy\n",
    "\n",
    "#Astropy FITS/Table handling\n",
    "from astropy.io import fits, ascii\n",
    "from astropy.table import Table, Column\n",
    "\n",
    "#astropy coorindates/units\n",
    "from astropy.coordinates import SkyCoord\n",
    "import astropy.constants as const\n",
    "import astropy.units as u\n",
    "\n",
    "### Pandas\n",
    "import pandas as pd\n",
    "\n",
    "### fitting\n",
    "import statsmodels.api as sm\n",
    "\n",
    "### PCA\n",
    "from sklearn.decomposition import PCA, KernelPCA\n",
    "\n",
    "### Model generation\n",
    "import itertools as it\n",
    "\n",
    "### Matplotlib\n",
    "import matplotlib\n",
    "import matplotlib.pyplot as plt\n",
    "%matplotlib inline\n",
    "matplotlib.rcParams.update({'font.size': 18}) #make plots more readable\n",
    "\n",
    "# ### Yumi's RA/DEC ---> Magellanic Stream Coorindates\n",
    "import MagellanicStream as ms\n",
    "\n",
    "# ### Functions used in this code\n",
    "import age_functions as afunc\n",
    "\n",
    "### Stuff Writtten by A Really Cool Professor\n",
    "import dlnpyutils as dlpu\n",
    "\n",
    "### Other\n",
    "import warnings\n",
    "warnings.filterwarnings('ignore')\n",
    "\n",
    "from tqdm import tqdm_notebook\n",
    "\n",
    "### Age of Universe\n",
    "H0 = 74.03*(u.km/u.s)/u.Mpc\n",
    "hertz = H0.to(u.km/u.s/u.pc).to(u.km/u.s/u.km)\n",
    "tage = (1/hertz).to(u.yr)\n",
    "ageU = tage.value"
   ]
  },
  {
   "cell_type": "code",
   "execution_count": 2,
   "metadata": {},
   "outputs": [],
   "source": [
    "###################\n",
    "### Import Data ###\n",
    "###################\n",
    "\n",
    "# parsec\n",
    "''' Ages used 8 to 10.1 steps 0.15'''\n",
    "''' Metallicity used -2.6 to 0.1 steps 0.099'''\n",
    "\n",
    "parsecall = ascii.read('/Users/joshpovick/Desktop/Research/LMC_Ages/parsec3_3.dat', \\\n",
    "                    format='basic', delimiter='\\s')\n",
    "\n",
    "rgb = np.where(parsecall['label']==3)\n",
    "parsec = parsecall[rgb]\n",
    "\n",
    "\n",
    "# r13\n",
    "r13 = fits.getdata('/Users/joshpovick/Desktop/Research/LMC_Ages/lmc_rgbmembers.r13-l33-58672.fits.gz')\n",
    "cln = np.where((r13['FE_H']>-9999.0)&(r13['AK_TARG']>-100.0)&(r13['LOGG']>=0.0)&\n",
    "                (r13['M_H_ERR']>-100.0)&(r13['C_FE']>-100.0)&(r13['N_FE']>-100.0))\n",
    "r13 = r13[cln]\n",
    "\n",
    "# APOKASC\n",
    "# kasc = fits.getdata('/Users/joshpovick/Desktop/Research/LMC_Ages/APOKASC_cat_v6.6.1.fits.gz')\n",
    "\n",
    "# Diane Feuillet\n",
    "pdfout = fits.getdata('/Users/joshpovick/Desktop/Research/LMC_Ages/LMC_DR16_all_PDF.fits.gz', 1)\n",
    "_, r13_ind, pdfout_ind = np.intersect1d(r13['APOGEE_ID'],pdfout['OBJ'],return_indices=True)"
   ]
  },
  {
   "cell_type": "code",
   "execution_count": 3,
   "metadata": {},
   "outputs": [],
   "source": [
    "###############################\n",
    "### Some Calcuations Needed ###\n",
    "###############################\n",
    "\n",
    "### Convert RA DEC to MS L B\n",
    "c_icrs = SkyCoord(ra=r13['RA']*u.degree, dec=r13['DEC']*u.degree)\n",
    "c_ms = c_icrs.transform_to(ms.MagellanicStream)\n",
    "ms_lg,ms_bg = c_ms.MSLongitude.degree, c_ms.MSLatitude.degree\n",
    "\n",
    "for i in range(len(ms_lg)):\n",
    "    if ms_lg[i]-360<-180:\n",
    "        ms_lg[i] += 360.0\n",
    "\n",
    "### Get Solar Fractions\n",
    "abd = {'C':8.39,'N':7.78,'O':8.66,'Mg':7.53,'Ca':6.31,'S':7.14,'Si':7.51,'Fe':7.45}\n",
    "keys = list(abd.keys())\n",
    "\n",
    "sol_2_H = []\n",
    "for i in keys:\n",
    "    sol_2_H.append(abd[i]-12.0)\n",
    "    \n",
    "sol_xm  = 10**np.asarray(sol_2_H)/sum(10**np.asarray(sol_2_H))"
   ]
  },
  {
   "cell_type": "code",
   "execution_count": 4,
   "metadata": {},
   "outputs": [
    {
     "data": {
      "image/png": "[encoded data removed]",
      "text/plain": [
       "<Figure size 864x432 with 1 Axes>"
      ]
     },
     "metadata": {
      "needs_background": "light"
     },
     "output_type": "display_data"
    }
   ],
   "source": [
    "### Setup \n",
    "data = np.array([parsec['logTe'],parsec['Ksmag'],parsec['MH'],parsec['logg']]).T\n",
    "\n",
    "### Determine Number of factors\n",
    "pca = PCA(n_components=4).fit(data)#_rescaled)\n",
    "plt.rcParams[\"figure.figsize\"] = (12,6)\n",
    "\n",
    "fig, ax = plt.subplots()\n",
    "\n",
    "y = np.cumsum(pca.explained_variance_ratio_)\n",
    "xi = np.arange(1, len(pca.explained_variance_ratio_)+1, step=1)\n",
    "\n",
    "plt.ylim(0.0,1.1)\n",
    "plt.plot(xi, y, marker='o', linestyle='--', color='b')\n",
    "\n",
    "plt.xlabel('Number of Components')\n",
    "plt.xticks(np.arange(0, 5, step=1)) #change from 0-based array index to 1-based human-readable label\n",
    "plt.ylabel('Cumulative variance (%)')\n",
    "plt.title('The number of components needed to explain variance')\n",
    "\n",
    "plt.axhline(y=0.99, color='r', linestyle='-')\n",
    "plt.text(0.5, 0.85, '99% cut-off threshold', color = 'red', fontsize=16)\n",
    "\n",
    "ax.grid(axis='x')\n",
    "plt.show()"
   ]
  },
  {
   "cell_type": "code",
   "execution_count": 128,
   "metadata": {},
   "outputs": [
    {
     "data": {
      "application/vnd.jupyter.widget-view+json": {
       "model_id": "757f54c071fe425c919fa8f85b4a722b",
       "version_major": 2,
       "version_minor": 0
      },
      "text/plain": [
       "HBox(children=(FloatProgress(value=0.0, description='Done?', max=4095.0, style=ProgressStyle(description_width…"
      ]
     },
     "metadata": {},
     "output_type": "display_data"
    },
    {
     "name": "stdout",
     "output_type": "stream",
     "text": [
      "\n"
     ]
    }
   ],
   "source": [
    "### Find all models\n",
    "\n",
    "#transform data to new basis\n",
    "new_data = PCA(n_components=3).fit(data).transform(data)\n",
    "\n",
    "#create new variables\n",
    "\n",
    "# linear terms\n",
    "x1 = new_data[:,0]\n",
    "x2 = new_data[:,1]\n",
    "x3 = new_data[:,2]\n",
    "\n",
    "# linear int\n",
    "x12 = np.multiply(x1,x2)\n",
    "x13 = np.multiply(x1,x3)\n",
    "x23 = np.multiply(x2,x3)\n",
    "\n",
    "# squares\n",
    "x1sq = x1**2\n",
    "x2sq = x2**2\n",
    "x3sq = x3**2\n",
    "\n",
    "# cubes\n",
    "x1cu = x1**3\n",
    "x2cu = x2**3\n",
    "x3cu = x3**3\n",
    "\n",
    "\n",
    "#find all possible models\n",
    "models = []\n",
    "models_str = []\n",
    "\n",
    "all_var_str = ['x1','x2','x3','x12','x13','x23','x1sq','x2sq','x3sq','x1cu','x2cu','x3cu']\n",
    "all_var = [x1,x2,x3,x12,x13,x23,x1sq,x2sq,x3sq,x1cu,x2cu,x3cu]\n",
    "\n",
    "for i in range(1,len(all_var)+1):\n",
    "    for subset in it.combinations(all_var,i):\n",
    "        models.append(subset)\n",
    "    for subset_str in it.combinations(all_var_str,i):\n",
    "        models_str.append(np.array(subset_str))\n",
    "        \n",
    "models = np.array(models)\n",
    "models_str = np.array(models_str)\n",
    "\n",
    "### Fit All Models\n",
    "\n",
    "import statsmodels.api as sm \n",
    "\n",
    "all_params = []\n",
    "summaries = []\n",
    "max_resid = []\n",
    "mads = []\n",
    "resids = []\n",
    "predict = []\n",
    "ll = []\n",
    "for i in tqdm_notebook(range(len(models)),desc='Done?'):\n",
    "    pmodl = np.array(models[i]).T\n",
    "    pmodl = sm.add_constant(pmodl)\n",
    "    model = sm.OLS(parsec['logAge'],pmodl).fit()\n",
    "    summaries.append(model.summary())\n",
    "    predictions = model.predict(pmodl)\n",
    "    predict.append(predictions)\n",
    "    residual = predictions - parsec['logAge']\n",
    "    resids.append(residual)\n",
    "    all_params.append(np.asarray(model.params))\n",
    "    max_resid.append(np.max(np.absolute(residual)))\n",
    "    mads.append(afunc.mad(residual))\n",
    "    ll.append(model.llf)"
   ]
  },
  {
   "cell_type": "code",
   "execution_count": 129,
   "metadata": {},
   "outputs": [
    {
     "data": {
      "text/plain": [
       "<matplotlib.collections.PathCollection at 0x7fb4a4abe9d0>"
      ]
     },
     "execution_count": 129,
     "metadata": {},
     "output_type": "execute_result"
    },
    {
     "data": {
      "image/png": "[encoded data removed]",
      "text/plain": [
       "<Figure size 864x432 with 1 Axes>"
      ]
     },
     "metadata": {
      "needs_background": "light"
     },
     "output_type": "display_data"
    }
   ],
   "source": [
    "plt.scatter(mads,ll)"
   ]
  },
  {
   "cell_type": "code",
   "execution_count": 132,
   "metadata": {},
   "outputs": [
    {
     "data": {
      "text/plain": [
       "<matplotlib.collections.PathCollection at 0x7facd1f1d690>"
      ]
     },
     "execution_count": 132,
     "metadata": {},
     "output_type": "execute_result"
    },
    {
     "data": {
      "image/png": "[encoded data removed]",
      "text/plain": [
       "<Figure size 864x432 with 1 Axes>"
      ]
     },
     "metadata": {
      "needs_background": "light"
     },
     "output_type": "display_data"
    }
   ],
   "source": [
    "plt.scatter(ll,max_resid)"
   ]
  },
  {
   "cell_type": "code",
   "execution_count": 133,
   "metadata": {},
   "outputs": [
    {
     "data": {
      "text/plain": [
       "array(['x1', 'x2', 'x3', 'x12', 'x13', 'x23', 'x1sq', 'x2sq', 'x3sq',\n",
       "       'x1cu', 'x3cu'], dtype='<U4')"
      ]
     },
     "execution_count": 133,
     "metadata": {},
     "output_type": "execute_result"
    }
   ],
   "source": [
    "# models_str[np.asarray(max_resid).argmin()]"
   ]
  },
  {
   "cell_type": "code",
   "execution_count": 163,
   "metadata": {},
   "outputs": [
    {
     "data": {
      "text/plain": [
       "array(['x1', 'x2', 'x3', 'x12', 'x13', 'x23', 'x1sq', 'x2sq', 'x3sq',\n",
       "       'x1cu', 'x2cu'], dtype='<U4')"
      ]
     },
     "execution_count": 163,
     "metadata": {},
     "output_type": "execute_result"
    }
   ],
   "source": [
    "models_str[np.asarray(mads).argmin()]"
   ]
  },
  {
   "cell_type": "code",
   "execution_count": 8,
   "metadata": {},
   "outputs": [
    {
     "data": {
      "text/plain": [
       "array(['x1', 'x2', 'x3', 'x12', 'x13', 'x23', 'x1sq', 'x2sq', 'x3sq',\n",
       "       'x1cu', 'x2cu'], dtype='<U4')"
      ]
     },
     "execution_count": 8,
     "metadata": {},
     "output_type": "execute_result"
    }
   ],
   "source": [
    "# models_str[np.asarray(mads).argmin()]"
   ]
  },
  {
   "cell_type": "code",
   "execution_count": 9,
   "metadata": {},
   "outputs": [
    {
     "data": {
      "text/plain": [
       "array(['x1', 'x2', 'x3', 'x12', 'x13', 'x23', 'x1sq', 'x2sq', 'x3sq',\n",
       "       'x1cu', 'x3cu'], dtype='<U4')"
      ]
     },
     "execution_count": 9,
     "metadata": {},
     "output_type": "execute_result"
    }
   ],
   "source": [
    "models_str[np.asarray(max_resid).argmin()]"
   ]
  },
  {
   "cell_type": "code",
   "execution_count": 165,
   "metadata": {},
   "outputs": [
    {
     "name": "stdout",
     "output_type": "stream",
     "text": [
      "0.007904882569677696\n",
      "                            OLS Regression Results                            \n",
      "==============================================================================\n",
      "Dep. Variable:                      y   R-squared:                       0.999\n",
      "Model:                            OLS   Adj. R-squared:                  0.999\n",
      "Method:                 Least Squares   F-statistic:                 1.692e+06\n",
      "Date:                Thu, 16 Jul 2020   Prob (F-statistic):               0.00\n",
      "Time:                        16:45:55   Log-Likelihood:                 42862.\n",
      "No. Observations:               14946   AIC:                        -8.570e+04\n",
      "Df Residuals:                   14933   BIC:                        -8.560e+04\n",
      "Df Model:                          12                                         \n",
      "Covariance Type:            nonrobust                                         \n",
      "==============================================================================\n",
      "                 coef    std err          t      P>|t|      [0.025      0.975]\n",
      "------------------------------------------------------------------------------\n",
      "const          9.3863      0.000   4.15e+04      0.000       9.386       9.387\n",
      "x1             0.0457      0.000    355.568      0.000       0.045       0.046\n",
      "x2            -0.0598      0.000   -139.505      0.000      -0.061      -0.059\n",
      "x3            -2.9965      0.001  -2213.757      0.000      -2.999      -2.994\n",
      "x4             0.0187   8.92e-05    209.464      0.000       0.019       0.019\n",
      "x5            -0.0450      0.001    -66.030      0.000      -0.046      -0.044\n",
      "x6             0.1108      0.001    129.007      0.000       0.109       0.113\n",
      "x7            -0.0059   3.16e-05   -187.969      0.000      -0.006      -0.006\n",
      "x8             0.0251      0.000    101.516      0.000       0.025       0.026\n",
      "x9             0.7985      0.005    156.001      0.000       0.788       0.809\n",
      "x10          6.92e-06   1.46e-05      0.474      0.636   -2.17e-05    3.55e-05\n",
      "x11            0.0227      0.000     53.380      0.000       0.022       0.023\n",
      "x12            0.4020      0.019     20.945      0.000       0.364       0.440\n",
      "==============================================================================\n",
      "Omnibus:                     1051.415   Durbin-Watson:                   0.201\n",
      "Prob(Omnibus):                  0.000   Jarque-Bera (JB):             5418.906\n",
      "Skew:                           0.071   Prob(JB):                         0.00\n",
      "Kurtosis:                       5.946   Cond. No.                     3.23e+03\n",
      "==============================================================================\n",
      "\n",
      "Warnings:\n",
      "[1] Standard Errors assume that the covariance matrix of the errors is correctly specified.\n",
      "[2] The condition number is large, 3.23e+03. This might indicate that there are\n",
      "strong multicollinearity or other numerical problems.\n",
      "[ 9.38632004e+00  4.56560132e-02 -5.98144381e-02 -2.99645418e+00\n",
      "  1.86773433e-02 -4.49811350e-02  1.10821907e-01 -5.93635093e-03\n",
      "  2.51466115e-02  7.98516719e-01  6.91983807e-06  2.26647606e-02\n",
      "  4.02013915e-01]\n"
     ]
    }
   ],
   "source": [
    "parsimonious = np.array([x1,x2,x3,x12,x13,x23,x1sq,x2sq,x3sq,x1cu,x2cu,x3cu]).T\n",
    "parsimonious = sm.add_constant(parsimonious)\n",
    "parsimonious_model = sm.OLS(parsec['logAge'],parsimonious).fit()\n",
    "parsimonious_predictions = parsimonious_model.predict(parsimonious)\n",
    "parsimonious_residual = parsimonious_predictions - parsec['logAge']\n",
    "print(afunc.mad(parsimonious_residual))\n",
    "parsimonious_summary = parsimonious_model.summary()\n",
    "print(parsimonious_summary)\n",
    "print(np.asarray(parsimonious_model.params))\n",
    "# print(models_str[np.asarray(ll).argmax()])"
   ]
  },
  {
   "cell_type": "code",
   "execution_count": 11,
   "metadata": {},
   "outputs": [],
   "source": [
    "# parsimonious = np.array([x1,x2,x3,x12,x13,x23,x1sq,x2sq,x3sq,x1cu,x2cu,x3cu]).T\n",
    "# parsimonious = sm.add_constant(parsimonious)\n",
    "# parsimonious_model = sm.OLS(parsec['logAge'],parsimonious).fit()\n",
    "# parsimonious_predictions = parsimonious_model.predict(parsimonious)\n",
    "# parsimonious_residual = parsimonious_predictions - parsec['logAge']\n",
    "# print(afunc.mad(parsimonious_residual))\n",
    "# parsimonious_summary = parsimonious_model.summary()\n",
    "# print(parsimonious_summary)\n",
    "# print(np.asarray(parsimonious_model.params))\n",
    "# print(models_str[np.asarray(ll).argmax()])"
   ]
  },
  {
   "cell_type": "code",
   "execution_count": 136,
   "metadata": {},
   "outputs": [],
   "source": [
    "# parsimonious = np.array([x1,x2,x3,x12,x13,x23,x1sq,x2sq,x3sq,x2cu,x3cu]).T\n",
    "# parsimonious = sm.add_constant(parsimonious)\n",
    "# parsimonious_model = sm.OLS(parsec['logAge'],parsimonious).fit()\n",
    "# parsimonious_predictions = parsimonious_model.predict(parsimonious)\n",
    "# parsimonious_residual = parsimonious_predictions - parsec['logAge']\n",
    "# print(afunc.mad(parsimonious_residual))\n",
    "# parsimonious_summary = parsimonious_model.summary()\n",
    "# print(parsimonious_summary)\n",
    "# print(np.asarray(parsimonious_model.params))\n",
    "# # print(models_str[np.asarray(ll).argmax()])"
   ]
  },
  {
   "cell_type": "code",
   "execution_count": 13,
   "metadata": {},
   "outputs": [],
   "source": [
    "# ### Final Age Model\n",
    "\n",
    "# def find_ages(z1,z2,z3):\n",
    "#     # all of them NO\n",
    "# #     p=[ 9.38632004e+00,4.56560132e-02,-5.98144381e-02,-2.99645418e+00,1.86773433e-02,\n",
    "# #        -4.49811350e-02,1.10821907e-01,-5.93635093e-03,2.51466115e-02,7.98516719e-01,\n",
    "# #        6.91983807e-06,2.26647606e-02,4.02013915e-01]\n",
    "# #     ages = (p[0]+p[1]*z1+p[2]*z2+p[3]*p[4]*np.multiply(z1,z2)+p[5]*np.multiply(z1,z3)+\n",
    "# #             p[6]*np.multiply(z2,z3)+p[7]*(z1**2)+p[8]*(z2**2)+p[9]*(z3**2)+p[10]*(z1**3)+\n",
    "# #             p[11]*(z2**3)+p[12]*(z3**3))\n",
    "\n",
    "#     # 'x1' 'x2' 'x3' 'x12' 'x13' 'x23' 'x1sq' 'x2sq' 'x3sq' 'x2cu' 'x3cu'\n",
    "#     p = [9.38631710e+00,4.57009017e-02,-5.98198867e-02,-2.99642242e+00,1.86921027e-02,-4.51165023e-02,\n",
    "#          1.10829968e-01,-5.93377185e-03,2.51457473e-02,7.98522275e-01,2.26643514e-02,4.00941011e-01]\n",
    "#     ages = (p[0]+p[1]*z1+p[2]*z2+p[3]*p[4]*np.multiply(z1,z2)+p[5]*np.multiply(z1,z3)+\n",
    "#             p[6]*np.multiply(z2,z3)+p[7]*(z1**2)+p[8]*(z2**2)+p[9]*(z3**2)+p[10]*(z2**3)+p[11]*(z3**3))\n",
    "#     return ages\n"
   ]
  },
  {
   "cell_type": "code",
   "execution_count": 156,
   "metadata": {},
   "outputs": [],
   "source": [
    "# l Age Model\n",
    "\n",
    "# def find_ages(z1,z2,z3):\n",
    "#     p = [9.38559303e+00,4.50640684e-02,-6.04245546e-02,-2.97525149e+00,1.89919586e-02,-5.42190398e-02,\n",
    "#          1.09839708e-01,-5.88914872e-03,2.50980954e-02,8.74102230e-01,2.28289124e-02]\n",
    "    \n",
    "#     age = (p[0]+p[1]*z1+p[2]*z2+p[3]*z3+p[4]*np.multiply(z1,z2)+p[5]*np.multiply(z1,z3)+p[6]*np.multiply(z2,z3)+\n",
    "#            p[7]*np.square(z1)+p[8]*np.square(z2)+p[9]*np.square(z3)+p[10]*(z3**3))\n",
    "#     p=[9.38439200e+00,4.52032966e-02,-3.89501708e-02,-2.97430070e+00,1.89942809e-02,-5.40460673e-02,1.10591414e-01\n",
    "#        ,-5.87621144e-03,2.69613674e-02,8.71979746e-01]\n",
    "#     age=(p[0]+p[1]*z1+p[2]*z2+p[3]*z3+p[4]*np.multiply(z1,z2)+p[5]*np.multiply(z1,z3)+p[6]*np.multiply(z2,z3)+\n",
    "#          p[7]*(z1**2)+p[8]*(z2**2)+p[9]*(z3**2)) \n",
    "#     p = [ 9.38439200e+00,4.52032966e-02,-3.89501708e-02,-2.97430070e+00,1.89942809e-02,-5.40460673e-02,\n",
    "#          1.10591414e-01,-5.87621144e-03,2.69613674e-02,8.71979746e-01]\n",
    "#     age = (p[0]+p[1]*z1+p[2]*z2+p[3]*z3+p[4]*np.multiply(x1,x2)+p[5]*np.multiply(x1,x3)+p[6]*np.multiply(x2,x3)+\n",
    "#            p[7]*(x1**2)+p[8]*(x2**2)+p[9]*(x3**2))\n",
    "#     p = [9.38635341e+00,4.94863782e-02,-5.88867291e-02,-3.03646050e+00,1.83469126e-02,1.21122776e-01,\n",
    "#          -6.14563208e-03,2.49234846e-02,6.83924894e-01,2.21039907e-02,1.37377932e+00]\n",
    "#     age = (p[0]+p[1]*z1+p[2]*z2+p[3]*z3+p[4]*np.multiply(z1,z2)+p[5]*np.multiply(z1,z3)+p[6]*np.multiply(z2,z3)+\n",
    "#            p[7]*(z1**2)+p[8]*(z2**2)+p[9]*(z2**3)+p[10]*(z3**3))\n",
    "    \n",
    "    \n",
    "    #MAYBE \n",
    "#     p = [9.38632004e+00,4.56560132e-02,-5.98144381e-02,-2.99645418e+00,1.86773433e-02,-4.49811350e-02,\n",
    "#          1.10821907e-01,-5.93635093e-03,2.51466115e-02,7.98516719e-01,6.91983807e-06,2.26647606e-02,\n",
    "#          4.02013915e-01]\n",
    "#     age = (p[0]+p[1]*z1+p[2]*z2+p[3]*z3+p[4]*np.multiply(z1,z2)+p[5]*np.multiply(z1,z3)+p[6]*np.multiply(z2,z3)+\n",
    "#            p[7]*(z1**2)+p[8]*(z2**2)+p[9]*(z3**2)+p[10]*(z1**3)+p[11]*(z2**3)+p[12]*(z3**3))\n",
    "    \n",
    "    #x1,x2,x3,x12,x13,x23,x1sq,x2sq,x3sq,x3cu diane good grads bad\n",
    "#     p = [9.38515897e+00,4.58688521e-02,-3.84792679e-02,-2.99646858e+00,1.86803888e-02,-4.45192811e-02,\n",
    "#          1.11622297e-01,-5.92301837e-03,2.69971879e-02,7.92882358e-01,4.19685455e-01]\n",
    "#     age = (p[0]+p[1]*z1+p[2]*z2+p[3]*z3+p[4]*np.multiply(z1,z2)+p[5]*np.multiply(z1,z3)+p[6]*np.multiply(z2,z3)+\n",
    "#            p[7]*(z1**2)+p[8]*(z2**2)+p[9]*(z3**2)+p[10]*(z3**3))\n",
    "    \n",
    "    #x1,x2,x3,x12,x13,x23,x1sq,x2sq,x3sq\n",
    "#     p = [9.38439200e+00,4.52032966e-02,-3.89501708e-02,-2.97430070e+00,1.89942809e-02,-5.40460673e-02,\n",
    "#          1.10591414e-01,-5.87621144e-03,2.69613674e-02,8.71979746e-01]\n",
    "#     age = (p[0]+p[1]*z1+p[2]*z2+p[3]*z3+p[4]*np.multiply(z1,z2)+p[5]*np.multiply(z1,z3)+p[6]*np.multiply(z2,z3)+\n",
    "#            p[7]*(z1**2)+p[8]*(z2**2)+p[9]*(z3**2))\n",
    "    \n",
    "    # x1,x2,x3,x12,x13,x23,x1sq,x3sq\n",
    "#     p = [9.39959662e+00,4.52035924e-02,-3.93931497e-02,-2.96912442e+00,1.93135473e-02,-5.27122256e-02,\n",
    "#          1.11865508e-01,-5.76302442e-03,8.61921873e-01]\n",
    "#     age = (p[0]+p[1]*z1+p[2]*z2+p[3]*z3+p[4]*np.multiply(z1,z2)+p[5]*np.multiply(z1,z3)+p[6]*np.multiply(z2,z3)+\n",
    "#            p[7]*(z1**2)+p[8]*(z3**2))\n",
    "    \n",
    "#     #x1,x2,x3,x12,x1sq,x3sq\n",
    "#     p = [9.39780792e+00,5.02485864e-02,-3.99480944e-02,-2.92632823e+00,1.99585372e-02,-6.25818591e-03,\n",
    "#          9.68403231e-01]\n",
    "#     age = (p[0]+p[1]*z1+p[2]*z2+p[3]*z3+p[4]*np.multiply(z1,z2)+p[5]*(z1**2)+p[6]*(z3**2))\n",
    "#     return age"
   ]
  },
  {
   "cell_type": "code",
   "execution_count": 120,
   "metadata": {},
   "outputs": [],
   "source": [
    "# def find_ages(z1,z2,z3):\n",
    "    #x1,x2,x3,x12,x13,x23,x1sq,x2sq,x3sq\n",
    "#     p = [9.38439200e+00,4.52032966e-02,-3.89501708e-02,-2.97430070e+00,1.89942809e-02,-5.40460673e-02,\n",
    "#          1.10591414e-01,-5.87621144e-03,2.69613674e-02,8.71979746e-01]\n",
    "#     age = (p[0]+p[1]*z1+p[2]*z2+p[3]*z3+p[4]*np.multiply(z1,z2)+p[5]*np.multiply(z1,z3)+p[6]*np.multiply(z2,z3)+\n",
    "#            p[7]*(z1**2)+p[8]*(z2**2)+p[9]*(z3**2))\n",
    "    \n",
    "#     #x1,x2,x3,x12,x13,x23,x1sq,x3sq\n",
    "#     p = [9.39959662e+00,4.52035924e-02,-3.93931497e-02,-2.96912442e+00,1.93135473e-02,-5.27122256e-02,\n",
    "#          1.11865508e-01,-5.76302442e-03,8.61921873e-01]\n",
    "#     age = (p[0]+p[1]*z1+p[2]*z2+p[3]*z3+p[4]*np.multiply(z1,z2)+p[5]*np.multiply(z1,z3)+p[6]*np.multiply(z2,z3)+\n",
    "#            p[7]*(z1**2)+p[8]*(z3**2))\n",
    "#     p = [9.38632004e+00,4.56560132e-02,-5.98144381e-02,-2.99645418e+00,1.86773433e-02,-4.49811350e-02,\n",
    "#           1.10821907e-01,-5.93635093e-03,2.51466115e-02,7.98516719e-01,6.91983807e-06,2.26647606e-02,\n",
    "#           4.02013915e-01]\n",
    "#     age = (p[0]+p[1]*z1+p[2]*z2+p[3]*z3+p[4]*np.multiply(z1,z2)+p[5]*np.multiply(z1,z3)+p[6]*np.multiply(z2,z3)+\n",
    "#            p[7]*(z1**2)+p[8]*(z2**2)+p[9]*(z3**2)+p[10]*(z1**3)+p[11]*(z2**3)+p[12]*(z3**3))\n",
    "#     return age\n",
    "\n",
    "#     p = [9.38632004e+00,4.56560132e-02,-5.98144381e-02,-2.99645418e+00,1.86773433e-02,-4.49811350e-02,\n",
    "#          1.10821907e-01,-5.93635093e-03,2.51466115e-02,7.98516719e-01,6.91983807e-06,2.26647606e-02,\n",
    "#          4.02013915e-01]\n",
    "#     age = (p[0]+p[1]*z1+p[2]*z2+p[3]*z3+p[4]*np.multiply(z1,z2)+p[5]*np.multiply(z1,z3)+p[6]*np.multiply(z2,z3)+\n",
    "#            p[7]*(z1**2)+p[8]*(z2**2)+p[9]*(z3**2)+p[10]*(z1**3)+p[11]*(z2**3)+p[12]*(z3**3))\n",
    "#     return age"
   ]
  },
  {
   "cell_type": "code",
   "execution_count": 121,
   "metadata": {},
   "outputs": [],
   "source": [
    "# def find_ages(z1,z2,z3):\n",
    "#     # all but cubes\n",
    "#     p = [9.38439200e+00,4.52032966e-02,-3.89501708e-02,-2.97430070e+00,1.89942809e-02,-5.40460673e-02,\n",
    "#          1.10591414e-01,-5.87621144e-03,2.69613674e-02,8.71979746e-01]\n",
    "#     ages = (p[0]+p[1]*z1+p[2]*z2+p[3]*z3+p[4]*np.multiply(z1,z2)+p[5]*np.multiply(z1,z3)+p[6]*np.multiply(z2,z3)+\n",
    "#             p[7]*(z1**2)+p[8]*(z2**2)+p[9]*(z3**2))\n",
    "#     return ages"
   ]
  },
  {
   "cell_type": "code",
   "execution_count": 122,
   "metadata": {},
   "outputs": [],
   "source": [
    "# [ 9.38632004e+00,4.56560132e-02,-5.98144381e-02,-2.99645418e+00,1.86773433e-02,\n",
    "#        -4.49811350e-02,1.10821907e-01,-5.93635093e-03,2.51466115e-02,7.98516719e-01,\n",
    "#        6.91983807e-06,2.26647606e-02,4.02013915e-01] == [9.38632004e+00,4.56560132e-02,-5.98144381e-02,-2.99645418e+00,1.86773433e-02,-4.49811350e-02,\n",
    "#          1.10821907e-01,-5.93635093e-03,2.51466115e-02,7.98516719e-01,6.91983807e-06,2.26647606e-02,\n",
    "#          4.02013915e-01]"
   ]
  },
  {
   "cell_type": "code",
   "execution_count": 204,
   "metadata": {},
   "outputs": [
    {
     "name": "stdout",
     "output_type": "stream",
     "text": [
      "0.009074250719429244\n",
      "                            OLS Regression Results                            \n",
      "==============================================================================\n",
      "Dep. Variable:                      y   R-squared:                       0.999\n",
      "Model:                            OLS   Adj. R-squared:                  0.999\n",
      "Method:                 Least Squares   F-statistic:                 1.845e+06\n",
      "Date:                Thu, 16 Jul 2020   Prob (F-statistic):               0.00\n",
      "Time:                        20:06:53   Log-Likelihood:                 41356.\n",
      "No. Observations:               14946   AIC:                        -8.269e+04\n",
      "Df Residuals:                   14936   BIC:                        -8.262e+04\n",
      "Df Model:                           9                                         \n",
      "Covariance Type:            nonrobust                                         \n",
      "==============================================================================\n",
      "                 coef    std err          t      P>|t|      [0.025      0.975]\n",
      "------------------------------------------------------------------------------\n",
      "const          9.3844      0.000   3.82e+04      0.000       9.384       9.385\n",
      "x1             0.0452   8.98e-05    503.412      0.000       0.045       0.045\n",
      "x2            -0.0390      0.000   -230.165      0.000      -0.039      -0.039\n",
      "x3            -2.9743      0.001  -2980.019      0.000      -2.976      -2.972\n",
      "x4             0.0190    9.1e-05    208.622      0.000       0.019       0.019\n",
      "x5            -0.0540      0.000   -110.604      0.000      -0.055      -0.053\n",
      "x6             0.1106      0.001    116.622      0.000       0.109       0.112\n",
      "x7            -0.0059   3.43e-05   -171.203      0.000      -0.006      -0.006\n",
      "x8             0.0270      0.000     99.402      0.000       0.026       0.027\n",
      "x9             0.8720      0.004    216.278      0.000       0.864       0.880\n",
      "==============================================================================\n",
      "Omnibus:                      594.039   Durbin-Watson:                   0.201\n",
      "Prob(Omnibus):                  0.000   Jarque-Bera (JB):             1729.474\n",
      "Skew:                           0.127   Prob(JB):                         0.00\n",
      "Kurtosis:                       4.647   Cond. No.                         180.\n",
      "==============================================================================\n",
      "\n",
      "Warnings:\n",
      "[1] Standard Errors assume that the covariance matrix of the errors is correctly specified.\n",
      "[ 9.38439200e+00  4.52032966e-02 -3.89501708e-02 -2.97430070e+00\n",
      "  1.89942809e-02 -5.40460673e-02  1.10591414e-01 -5.87621144e-03\n",
      "  2.69613674e-02  8.71979746e-01]\n"
     ]
    }
   ],
   "source": [
    "parsimonious = np.array([x1,x2,x3,x12,x13,x23,x1sq,x2sq,x3sq]).T#,x2cu]).T\n",
    "parsimonious = sm.add_constant(parsimonious)\n",
    "parsimonious_model = sm.OLS(parsec['logAge'],parsimonious).fit()\n",
    "parsimonious_predictions = parsimonious_model.predict(parsimonious)\n",
    "parsimonious_residual = parsimonious_predictions - parsec['logAge']\n",
    "print(afunc.mad(parsimonious_residual))\n",
    "parsimonious_summary = parsimonious_model.summary()\n",
    "print(parsimonious_summary)\n",
    "print(np.asarray(parsimonious_model.params))\n",
    "# print(models_str[np.asarray(ll).argmax()])"
   ]
  },
  {
   "cell_type": "code",
   "execution_count": 210,
   "metadata": {},
   "outputs": [],
   "source": [
    "def find_ages(z1,z2,z3):\n",
    "    #x1,x2,x3,x12,x13,x23,x1sq,x2sq,x3sq,x1cu,x2cu,x3cu\n",
    "#     p = [9.38632004e+00,4.56560132e-02,-5.98144381e-02,-2.99645418e+00,1.86773433e-02,-4.49811350e-02,\n",
    "#          1.10821907e-01,-5.93635093e-03,2.51466115e-02,7.98516719e-01,6.91983807e-06,2.26647606e-02,\n",
    "#          4.02013915e-01]\n",
    "#     age = (p[0]+p[1]*z1+p[2]*z2+p[3]*z3+p[4]*np.multiply(z1,z2)+p[5]*np.multiply(z1,z3)+p[6]*np.multiply(z2,z3)+\n",
    "#            p[7]*(z1**2)+p[8]*(z2**2)+p[9]*(z3**2)+p[10]*(z1**3)+p[11]*(z2**3)+p[12]*(z3**3))\n",
    "    \n",
    "    #Very Close\n",
    "    #x1,x2,x3,x12,x13,x23,x1sq,x2sq,x3sq,x2cu,x3cu\n",
    "#     p = [9.38631710e+00,4.57009017e-02,-5.98198867e-02,-2.99642242e+00,1.86921027e-02,-4.51165023e-02,\n",
    "#          1.10829968e-01,-5.93377185e-03,2.51457473e-02,7.98522275e-01,2.26643514e-02,4.00941011e-01]\n",
    "#     age = (p[0]+p[1]*z1+p[2]*z2+p[3]*z3+p[4]*np.multiply(z1,z2)+p[5]*np.multiply(z1,z3)+p[6]*np.multiply(z2,z3)+\n",
    "#            p[7]*(z1**2)+p[8]*(z2**2)+p[9]*(z3**2)+p[10]*(z2**3)+p[11]*(z3**3))\n",
    "    \n",
    "    #good good\n",
    "#     x1,x2,x3,x12,x13,x23,x1sq,x2sq,x3sq,x2cu\n",
    "    p = [9.38559303e+00,4.50640684e-02,-6.04245546e-02,-2.97525149e+00,1.89919586e-02,-5.42190398e-02,\n",
    "         1.09839708e-01,-5.88914872e-03,2.50980954e-02,8.74102230e-01,2.28289124e-02]\n",
    "    age = (p[0]+p[1]*z1+p[2]*z2+p[3]*z3+p[4]*np.multiply(z1,z2)+p[5]*np.multiply(z1,z3)+p[6]*np.multiply(z2,z3)+\n",
    "           p[7]*(z1**2)+p[8]*(z2**2)+p[9]*(z3**2)+p[10]*(z2**3))\n",
    "    \n",
    "#     #x1,x2,x3,x12,x13,x23,x1sq,x2sq,x3sq\n",
    "#     p = [9.38439200e+00,4.52032966e-02,-3.89501708e-02,-2.97430070e+00,1.89942809e-02,-5.40460673e-02,\n",
    "#          1.10591414e-01,-5.87621144e-03,2.69613674e-02,8.71979746e-01]\n",
    "#     age = (p[0]+p[1]*z1+p[2]*z2+p[3]*z3+p[4]*np.multiply(z1,z2)+p[5]*np.multiply(z1,z3)+p[6]*np.multiply(z2,z3)+\n",
    "#            p[7]*(z1**2)+p[8]*(z2**2)+p[9]*(z3**2))\n",
    "    \n",
    "#     #x1,x2,x3,x12,x13,x23,x1sq,x2sq,x3sq,x2cu,x3cu\n",
    "#     p = [9.38631710e+00,4.57009017e-02,-5.98198867e-02,-2.99642242e+00,1.86921027e-02,-4.51165023e-02,\n",
    "#          1.10829968e-01,-5.93377185e-03,2.51457473e-02,7.98522275e-01,2.26643514e-02,4.00941011e-01]\n",
    "#     age = (p[0]+p[1]*z1+p[2]*z2+p[3]*z3+p[4]*np.multiply(z1,z2)+p[5]*np.multiply(z1,z3)+p[6]*np.multiply(z2,z3)+\n",
    "#            p[7]*(z2**2)+p[8]*(z3**2))\n",
    "\n",
    "    #x1,x2,x3,x12,x13,x23,x1sq,x2sq,x3sq,x2cu\n",
    "#     p = [9.38559303e+00,4.50640684e-02,-6.04245546e-02,-2.97525149e+00,1.89919586e-02,-5.42190398e-02,\n",
    "#          1.09839708e-01,-5.88914872e-03,2.50980954e-02,8.74102230e-01,2.28289124e-02]\n",
    "#     age = (p[0]+p[1]*z1+p[2]*z2+p[3]*z3+p[4]*np.multiply(z1,z2)+p[5]*np.multiply(z1,z3)+p[6]*np.multiply(z2,z3)+\n",
    "#            p[7]*(z1**2)+p[8]*(z2**2))\n",
    "    \n",
    "#     p = [9.38559303e+00,4.50640684e-02,-6.04245546e-02,-2.97525149e+00,1.89919586e-02,-5.42190398e-02,\n",
    "#          1.09839708e-01,-5.88914872e-03,2.50980954e-02,8.74102230e-01,2.28289124e-02]\n",
    "#     age = (p[0]+p[1]*z1+p[2]*z2+p[3]*z3+p[4]*np.multiply(z1,z2)+p[5]*np.multiply(z1,z3)+p[6]*np.multiply(z2,z3)+\n",
    "#            p[7]*(z2**2))\n",
    "    return age\n"
   ]
  },
  {
   "cell_type": "markdown",
   "metadata": {},
   "source": [
    "<font size='48'>\n",
    "    <b>\n",
    "        CALCULATE AGES\n",
    "    </b>\n",
    "</font>"
   ]
  },
  {
   "cell_type": "code",
   "execution_count": 181,
   "metadata": {},
   "outputs": [],
   "source": [
    "### Uncertainty Functions\n",
    "\n",
    "def add_noise(quant,quant_err,distribution='normal'):\n",
    "    '''\n",
    "    Add noise to data and return new values\n",
    "    \n",
    "    Parameters:\n",
    "    ----------\n",
    "        quant: 1d array-like data to add noise to\n",
    "        quant_err: 1d array-like object of errors for quant\n",
    "        distribution: which distribution to use 'normal', 'poisson', 'uniform'\n",
    "    \n",
    "    return: \n",
    "    ------\n",
    "        1d array-like object of data with added noise\n",
    "    \n",
    "    '''\n",
    "    if distribution == 'normal':\n",
    "        return np.random.normal(quant,quant_err)\n",
    "    if distribution == 'poisson':\n",
    "        return quant + np.random.poisson(quant_err)\n",
    "    if distribution == 'uniform':\n",
    "        return np.random.uniform(-quant_err+quant,quant+quant_err)"
   ]
  },
  {
   "cell_type": "code",
   "execution_count": 211,
   "metadata": {},
   "outputs": [
    {
     "data": {
      "application/vnd.jupyter.widget-view+json": {
       "model_id": "f2d7635c5e374258a8c2e8e9aec06120",
       "version_major": 2,
       "version_minor": 0
      },
      "text/plain": [
       "HBox(children=(FloatProgress(value=0.0, description='Done?', max=2588.0, style=ProgressStyle(description_width…"
      ]
     },
     "metadata": {},
     "output_type": "display_data"
    },
    {
     "name": "stdout",
     "output_type": "stream",
     "text": [
      "\n"
     ]
    },
    {
     "data": {
      "application/vnd.jupyter.widget-view+json": {
       "model_id": "eb152555435f4587925d9bbfd46d9c5a",
       "version_major": 2,
       "version_minor": 0
      },
      "text/plain": [
       "HBox(children=(FloatProgress(value=0.0, max=2588.0), HTML(value='')))"
      ]
     },
     "metadata": {},
     "output_type": "display_data"
    },
    {
     "name": "stdout",
     "output_type": "stream",
     "text": [
      "\n"
     ]
    }
   ],
   "source": [
    "age_dist = []\n",
    "\n",
    "pca_transform = PCA(n_components=3).fit(data)\n",
    "\n",
    "for i in tqdm_notebook(range(len(r13)),desc='Done?'):\n",
    "    # temperature\n",
    "    teff = r13['TEFF'][i]\n",
    "    teff_err = r13['TEFF_ERR'][i]\n",
    "    \n",
    "    # photometry \n",
    "    ra = r13['RA'][i]\n",
    "    dec = r13['DEC'][i]\n",
    "    ks = r13['K'][i]\n",
    "    ks_err = r13['K_ERR'][i]\n",
    "    ak = r13['AK_TARG'][i]\n",
    "    \n",
    "    # abundances\n",
    "    mh = r13['M_H'][i]\n",
    "    mh_err = r13['M_H_ERR'][i]\n",
    "    cfe = r13['C_FE'][i]\n",
    "    cfe_err = r13['C_FE_ERR'][i]\n",
    "    nfe = r13['N_FE'][i]\n",
    "    nfe_err = r13['N_FE_ERR'][i]\n",
    "    feh = r13['FE_H'][i]\n",
    "    feh_err = r13['FE_H_ERR'][i]\n",
    "    \n",
    "    # surface gravity\n",
    "    lgg = r13['LOGG'][i]\n",
    "    lgg_err = r13['LOGG_ERR'][i]\n",
    "    \n",
    "    noise_ages = []\n",
    "    new = []\n",
    "    for j in range(100):\n",
    "       \n",
    "        # calculate noisy temperature\n",
    "        teff_new = add_noise(teff,teff_err) \n",
    "        lgteff_new = np.log10(teff_new)\n",
    "    \n",
    "        # Calculate noisy K magnitude\n",
    "        _, _, dist = afunc.LMCdisk_cart(ra,dec)\n",
    "        \n",
    "        ks_new = add_noise(ks,ks_err)\n",
    "            \n",
    "        absK_new = afunc.absmag(ks_new,dist) - ak\n",
    "            \n",
    "        # Calculate noisy Salaris correction\n",
    "        \n",
    "        x_C_new = sol_xm[0]*10**(add_noise(cfe,cfe_err)+\n",
    "                                 add_noise(feh,feh_err)-add_noise(mh,mh_err))\n",
    "        x_N_new = sol_xm[1]*10**(add_noise(nfe,nfe_err)+\n",
    "                                 add_noise(feh,feh_err)-add_noise(mh,mh_err))\n",
    "        \n",
    "        ffac_new = (x_C_new+x_N_new)/sum(sol_xm[0:2])\n",
    "        \n",
    "        mh_new = add_noise(mh,mh_err)\n",
    "        \n",
    "        # Calculate noisy surface gravity\n",
    "        lgg_new = add_noise(lgg,lgg_err)\n",
    "            \n",
    "        # calculate noisy age\n",
    "        new.append(np.array([lgteff_new,absK_new,afunc.sal(mh_new,ffac_new),lgg_new]))\n",
    "        \n",
    "    zs = pca_transform.transform(np.asarray(np.squeeze(new)))\n",
    "\n",
    "    for l in range(len(zs)):\n",
    "        noise_ages.append(find_ages(zs[l][0],zs[l][1],zs[l][2]))\n",
    "    \n",
    "    age_dist.append(noise_ages)\n",
    "\n",
    "parages = [] \n",
    "devs = []\n",
    "for k in tqdm_notebook(range(len(age_dist))):\n",
    "    devs.append(afunc.mad(age_dist[k]))\n",
    "    parages.append(np.median(age_dist[k]))"
   ]
  },
  {
   "cell_type": "code",
   "execution_count": 183,
   "metadata": {},
   "outputs": [],
   "source": [
    "# print(np.where(parages<=np.log10(0.5*10**9)))\n",
    "# print(np.log10(0.5*10**9))\n",
    "# plt.hist(parages,range=(8,12))"
   ]
  },
  {
   "cell_type": "code",
   "execution_count": 212,
   "metadata": {},
   "outputs": [
    {
     "data": {
      "text/plain": [
       "(10000000, 10000000000000)"
      ]
     },
     "execution_count": 212,
     "metadata": {},
     "output_type": "execute_result"
    },
    {
     "data": {
      "image/png": "[encoded data removed]",
      "text/plain": [
       "<Figure size 864x720 with 2 Axes>"
      ]
     },
     "metadata": {
      "needs_background": "light"
     },
     "output_type": "display_data"
    }
   ],
   "source": [
    "plt.figure(figsize=[12,10])\n",
    "plt.scatter(10**np.asarray(parages)[r13_ind],10**pdfout['P_MEAN'][pdfout_ind],c=r13['LOGG'][r13_ind],\n",
    "                marker='+',cmap='nipy_spectral')\n",
    "plt.colorbar()\n",
    "plt.xscale('log')\n",
    "plt.yscale('log')\n",
    "plt.plot(10**np.array([7,8,9,10,11,12,13]),10**np.array([7,8,9,10,11,12,13]),c='k')\n",
    "plt.ylim(10**7,10**11)\n",
    "plt.xlim(10**7,10**13)"
   ]
  },
  {
   "cell_type": "code",
   "execution_count": 37,
   "metadata": {},
   "outputs": [],
   "source": [
    "# plt.hist(10**pdfout['P_MEAN'][pdfout_ind])"
   ]
  },
  {
   "cell_type": "code",
   "execution_count": 38,
   "metadata": {},
   "outputs": [],
   "source": [
    "# plt.hist(10**np.asarray(parages)[r13_ind])"
   ]
  },
  {
   "cell_type": "code",
   "execution_count": 39,
   "metadata": {},
   "outputs": [],
   "source": [
    "# plt.hist(age_dist[100])"
   ]
  },
  {
   "cell_type": "code",
   "execution_count": 213,
   "metadata": {},
   "outputs": [],
   "source": [
    "cat = Table()\n",
    "col_id = Column(np.asarray(r13['APOGEE_ID']),name='APOGEE_ID')\n",
    "col_age = Column(np.asarray(parages),name='AGE')\n",
    "col_dev = Column(np.asarray(devs),name='AGE_ERR')\n",
    "col_dist = Column(np.asarray(age_dist),name='DIST')\n",
    "\n",
    "cat.add_column(col_id)\n",
    "cat.add_column(col_age)\n",
    "cat.add_column(col_dev)\n",
    "cat.add_column(col_dist)\n",
    "\n",
    "cat.write('TEST_pca_ols_ll.fits',format='fits',overwrite=True)"
   ]
  },
  {
   "cell_type": "code",
   "execution_count": 82,
   "metadata": {},
   "outputs": [
    {
     "data": {
      "application/vnd.jupyter.widget-view+json": {
       "model_id": "53f83367b794452b9407f74f60651b96",
       "version_major": 2,
       "version_minor": 0
      },
      "text/plain": [
       "HBox(children=(FloatProgress(value=0.0, description='Done?', max=8191.0, style=ProgressStyle(description_width…"
      ]
     },
     "metadata": {},
     "output_type": "display_data"
    },
    {
     "name": "stdout",
     "output_type": "stream",
     "text": [
      "\n"
     ]
    }
   ],
   "source": [
    "### Find all models\n",
    "\n",
    "#transform data to new basis\n",
    "# new_data = PCA(n_components=3).fit(data).transform(data)\n",
    "\n",
    "#create new variables\n",
    "\n",
    "# linear terms\n",
    "x1 = parsec['logTe'] #new_data[:,0]\n",
    "x2 = parsec['Ksmag'] #new_data[:,1]\n",
    "x3 = parsec['MH'] #new_data[:,2]\n",
    "x4 = parsec['logg']\n",
    "\n",
    "# linear int\n",
    "x12 = np.multiply(x1,x2)\n",
    "x13 = np.multiply(x1,x3)\n",
    "x14 = np.multiply(x1,x4)\n",
    "\n",
    "x23 = np.multiply(x2,x3)\n",
    "x24 = np.multiply(x2,x4)\n",
    "\n",
    "x34 = np.multiply(x3,x4)\n",
    "\n",
    "\n",
    "# squares\n",
    "x1sq = x1**2\n",
    "x2sq = x2**2\n",
    "x3sq = x3**2\n",
    "x4sq = x4**2\n",
    "\n",
    "# cubes\n",
    "# x1cu = x1**3\n",
    "# x2cu = x2**3\n",
    "# x3cu = x3**3\n",
    "\n",
    "\n",
    "#find all possible models\n",
    "models = []\n",
    "models_str = []\n",
    "\n",
    "all_var_str = ['x1','x2','x3','x4','x12','x13','x23','x24','x34','x1sq','x2sq','x3sq','x4sq']\n",
    "all_var = [x1,x2,x3,x4,x12,x13,x23,x24,x34,x1sq,x2sq,x3sq,x4sq]\n",
    "\n",
    "for i in range(1,len(all_var)+1):\n",
    "    for subset in it.combinations(all_var,i):\n",
    "        models.append(subset)\n",
    "    for subset_str in it.combinations(all_var_str,i):\n",
    "        models_str.append(np.array(subset_str))\n",
    "        \n",
    "models = np.array(models)\n",
    "models_str = np.array(models_str)\n",
    "\n",
    "### Fit All Models\n",
    "\n",
    "import statsmodels.api as sm \n",
    "\n",
    "all_params = []\n",
    "summaries = []\n",
    "max_resid = []\n",
    "mads = []\n",
    "resids = []\n",
    "predict = []\n",
    "ll = []\n",
    "for i in tqdm_notebook(range(len(models)),desc='Done?'):\n",
    "    pmodl = np.array(models[i]).T\n",
    "    pmodl = sm.add_constant(pmodl)\n",
    "    model = sm.OLS(parsec['logAge'],pmodl).fit()\n",
    "    summaries.append(model.summary())\n",
    "    predictions = model.predict(pmodl)\n",
    "    predict.append(predictions)\n",
    "    residual = predictions - parsec['logAge']\n",
    "    resids.append(residual)\n",
    "    all_params.append(np.asarray(model.params))\n",
    "    max_resid.append(np.max(np.absolute(residual)))\n",
    "    mads.append(afunc.mad(residual))\n",
    "    ll.append(model.llf)"
   ]
  },
  {
   "cell_type": "code",
   "execution_count": 89,
   "metadata": {},
   "outputs": [
    {
     "name": "stdout",
     "output_type": "stream",
     "text": [
      "                            OLS Regression Results                            \n",
      "==============================================================================\n",
      "Dep. Variable:                      y   R-squared:                       1.000\n",
      "Model:                            OLS   Adj. R-squared:                  1.000\n",
      "Method:                 Least Squares   F-statistic:                 2.443e+06\n",
      "Date:                Sun, 12 Jul 2020   Prob (F-statistic):               0.00\n",
      "Time:                        20:01:01   Log-Likelihood:                 46203.\n",
      "No. Observations:               14946   AIC:                        -9.238e+04\n",
      "Df Residuals:                   14932   BIC:                        -9.227e+04\n",
      "Df Model:                          13                                         \n",
      "Covariance Type:            nonrobust                                         \n",
      "==============================================================================\n",
      "                 coef    std err          t      P>|t|      [0.025      0.975]\n",
      "------------------------------------------------------------------------------\n",
      "const        162.7731      4.460     36.494      0.000     154.030     171.516\n",
      "x1           -77.4432      2.426    -31.917      0.000     -82.199     -72.687\n",
      "x2             5.7943      0.046    124.778      0.000       5.703       5.885\n",
      "x3            -0.8216      0.119     -6.932      0.000      -1.054      -0.589\n",
      "x4            -6.3150      0.025   -254.852      0.000      -6.364      -6.266\n",
      "x5            -0.8535      0.014    -59.062      0.000      -0.882      -0.825\n",
      "x6             0.3034      0.034      9.028      0.000       0.238       0.369\n",
      "x7            -0.0122      0.001    -16.944      0.000      -0.014      -0.011\n",
      "x8            -0.4283      0.003   -128.847      0.000      -0.435      -0.422\n",
      "x9            -0.0015      0.002     -0.644      0.520      -0.006       0.003\n",
      "x10           10.8410      0.328     33.036      0.000      10.198      11.484\n",
      "x11            0.1017      0.001    181.135      0.000       0.101       0.103\n",
      "x12            0.0755      0.001     70.391      0.000       0.073       0.078\n",
      "x13            0.4962      0.004    117.924      0.000       0.488       0.504\n",
      "==============================================================================\n",
      "Omnibus:                      723.813   Durbin-Watson:                   0.152\n",
      "Prob(Omnibus):                  0.000   Jarque-Bera (JB):             2106.411\n",
      "Skew:                          -0.216   Prob(JB):                         0.00\n",
      "Kurtosis:                       4.788   Cond. No.                     1.37e+06\n",
      "==============================================================================\n",
      "\n",
      "Warnings:\n",
      "[1] Standard Errors assume that the covariance matrix of the errors is correctly specified.\n",
      "[2] The condition number is large, 1.37e+06. This might indicate that there are\n",
      "strong multicollinearity or other numerical problems.\n",
      "[ 1.62773106e+02 -7.74432139e+01  5.79432496e+00 -8.21554113e-01\n",
      " -6.31502225e+00 -8.53547492e-01  3.03422107e-01 -1.21805077e-02\n",
      " -4.28300766e-01 -1.54961212e-03  1.08410088e+01  1.01740575e-01\n",
      "  7.55430356e-02  4.96225871e-01]\n",
      "['x1' 'x2' 'x3' 'x4' 'x12' 'x13' 'x23' 'x24' 'x34' 'x1sq' 'x2sq' 'x3sq'\n",
      " 'x4sq']\n"
     ]
    }
   ],
   "source": [
    "print(summaries[np.asarray(ll).argmax()])\n",
    "print(all_params[np.asarray(ll).argmax()])\n",
    "print(models_str[np.asarray(ll).argmax()])\n"
   ]
  },
  {
   "cell_type": "code",
   "execution_count": 97,
   "metadata": {},
   "outputs": [
    {
     "name": "stdout",
     "output_type": "stream",
     "text": [
      "                            OLS Regression Results                            \n",
      "==============================================================================\n",
      "Dep. Variable:                      y   R-squared:                       1.000\n",
      "Model:                            OLS   Adj. R-squared:                  1.000\n",
      "Method:                 Least Squares   F-statistic:                 2.864e+06\n",
      "Date:                Sun, 12 Jul 2020   Prob (F-statistic):               0.00\n",
      "Time:                        20:01:00   Log-Likelihood:                 46140.\n",
      "No. Observations:               14946   AIC:                        -9.226e+04\n",
      "Df Residuals:                   14934   BIC:                        -9.216e+04\n",
      "Df Model:                          11                                         \n",
      "Covariance Type:            nonrobust                                         \n",
      "==============================================================================\n",
      "                 coef    std err          t      P>|t|      [0.025      0.975]\n",
      "------------------------------------------------------------------------------\n",
      "const        117.9933      2.014     58.594      0.000     114.046     121.941\n",
      "x1           -53.1336      1.099    -48.329      0.000     -55.289     -50.979\n",
      "x2             5.4582      0.036    153.602      0.000       5.389       5.528\n",
      "x3             0.2995      0.002    191.285      0.000       0.296       0.303\n",
      "x4            -6.4752      0.020   -320.792      0.000      -6.515      -6.436\n",
      "x5            -0.7474      0.011    -68.103      0.000      -0.769      -0.726\n",
      "x6            -0.0088      0.000    -29.793      0.000      -0.009      -0.008\n",
      "x7            -0.4455      0.003   -157.579      0.000      -0.451      -0.440\n",
      "x8             7.5611      0.149     50.747      0.000       7.269       7.853\n",
      "x9             0.1041      0.001    204.532      0.000       0.103       0.105\n",
      "x10            0.0718      0.000    204.663      0.000       0.071       0.072\n",
      "x11            0.5206      0.003    155.402      0.000       0.514       0.527\n",
      "==============================================================================\n",
      "Omnibus:                      812.203   Durbin-Watson:                   0.152\n",
      "Prob(Omnibus):                  0.000   Jarque-Bera (JB):             2465.773\n",
      "Skew:                          -0.246   Prob(JB):                         0.00\n",
      "Kurtosis:                       4.928   Cond. No.                     6.06e+05\n",
      "==============================================================================\n",
      "\n",
      "Warnings:\n",
      "[1] Standard Errors assume that the covariance matrix of the errors is correctly specified.\n",
      "[2] The condition number is large, 6.06e+05. This might indicate that there are\n",
      "strong multicollinearity or other numerical problems.\n",
      "[ 1.17993328e+02 -5.31336187e+01  5.45824048e+00  2.99452735e-01\n",
      " -6.47520602e+00 -7.47386878e-01 -8.83982229e-03 -4.45546306e-01\n",
      "  7.56108649e+00  1.04148096e-01  7.17546427e-02  5.20605161e-01]\n",
      "['x1' 'x2' 'x3' 'x4' 'x12' 'x23' 'x24' 'x1sq' 'x2sq' 'x3sq' 'x4sq']\n"
     ]
    }
   ],
   "source": [
    "print(summaries[np.asarray(mads).argmin()])\n",
    "print(all_params[np.asarray(mads).argmin()])\n",
    "print(models_str[np.asarray(mads).argmin()])"
   ]
  },
  {
   "cell_type": "code",
   "execution_count": 103,
   "metadata": {},
   "outputs": [],
   "source": [
    "def find_ages(z1,z2,z3,z4):\n",
    "#     p = [9.77943559e+02,-5.25226935e+02,1.24426878e+01,-1.71063906e+01,-3.33360237e+00,4.80431454e+00,\n",
    "#          -6.62127176e-02,3.89523313e-01,-8.75802774e-02,7.16174805e+01,-3.29702782e-02,1.69804627e-01,\n",
    "#          -5.39563301e-01]\n",
    "#     ages = (p[0]+p[1]*z1+p[2]*z2+p[3]*z3+p[4]*np.multiply(z1,z2)+p[5]*np.multiply(z1,z3)+p[6]*np.multiply(z2,z3)+\n",
    "#             p[7]*np.multiply(z2,z4)+p[8]*np.multiply(z3,z4)+p[9]*(z1**2)+p[10]*(z2**2)+p[11]*(z3**2)+\n",
    "#             p[12]*(z4**2))\n",
    "\n",
    "#     p = [9.80851387e+02,-5.24981733e+02,1.26388036e+01,-1.48527724e+01,-3.38508869e+00,4.09636862e+00,\n",
    "#          -8.83269488e-02,3.70451942e-01,7.13126367e+01,-3.11197530e-02,1.35549807e-01,-5.05326057e-01]\n",
    "#     ages = (p[0]+p[1]*z1+p[2]*z2+p[3]*z3+p[4]*np.multiply(z1,z2)+p[5]*np.multiply(z1,z3)+p[6]*np.multiply(z2,z3)+\n",
    "#             p[7]*np.multiply(z2,z4)+p[8]*(z1**2)+p[9]*(z2**2)+p[10]*(z3**2)+p[11]*(z4**2))\n",
    "\n",
    "    p = [1.62773106e+02,-7.74432139e+01,5.79432496e+00,-8.21554113e-01,-6.31502225e+00,-8.53547492e-01,\n",
    "         3.03422107e-01,-1.21805077e-02,-4.28300766e-01,-1.54961212e-03,1.08410088e+01,1.01740575e-01,\n",
    "         7.55430356e-02,4.96225871e-01]\n",
    "    ages = (p[0]+p[1]*z1+p[2]*z2+p[3]*z3+p[4]*z4+p[5]*np.multiply(z1,z2)+p[6]*np.multiply(z1,z3)+\n",
    "            p[7]*np.multiply(z2,z3)+p[8]*np.multiply(z2,z4)+p[9]*np.multiply(z3,z4)+p[10]*(z1**2)+p[11]*(z2**2)+\n",
    "            p[12]*(z3**3)+p[13]*(z4**2))\n",
    "    \n",
    "#     p = [1.17993328e+02,-5.31336187e+01,5.45824048e+00,2.99452735e-01,-6.47520602e+00,-7.47386878e-01,\n",
    "#          -8.83982229e-03,-4.45546306e-01,7.56108649e+00,1.04148096e-01,7.17546427e-02,5.20605161e-01]\n",
    "#     ages = (p[0]+p[1]*z1+p[2]*z2+p[3]*z3+p[4]*z4+p[5]*np.multiply(z1,z2)+p[6]*np.multiply(z1,z3)+\n",
    "#             p[7]*np.multiply(z2,z3)+p[8]*np.multiply(z2,z4)+p[8]*(z1**2)+p[9]*(z2**2)+p[10]*(z3**2)+p[11]*(z4**2))\n",
    "    return ages"
   ]
  },
  {
   "cell_type": "code",
   "execution_count": 72,
   "metadata": {},
   "outputs": [
    {
     "data": {
      "text/plain": [
       "12"
      ]
     },
     "execution_count": 72,
     "metadata": {},
     "output_type": "execute_result"
    }
   ],
   "source": [
    "len(all_params[np.asarray(ll).argmax()])\n",
    "len(models_str[np.asarray(ll).argmax()])"
   ]
  },
  {
   "cell_type": "code",
   "execution_count": 104,
   "metadata": {},
   "outputs": [
    {
     "data": {
      "application/vnd.jupyter.widget-view+json": {
       "model_id": "331657ca150a4c1aa5fdcdb6c86db5d3",
       "version_major": 2,
       "version_minor": 0
      },
      "text/plain": [
       "HBox(children=(FloatProgress(value=0.0, description='Done?', max=2588.0, style=ProgressStyle(description_width…"
      ]
     },
     "metadata": {},
     "output_type": "display_data"
    },
    {
     "name": "stdout",
     "output_type": "stream",
     "text": [
      "\n"
     ]
    },
    {
     "data": {
      "application/vnd.jupyter.widget-view+json": {
       "model_id": "85c0a7f289e04ca5b2af5c9914750d82",
       "version_major": 2,
       "version_minor": 0
      },
      "text/plain": [
       "HBox(children=(FloatProgress(value=0.0, max=2588.0), HTML(value='')))"
      ]
     },
     "metadata": {},
     "output_type": "display_data"
    },
    {
     "name": "stdout",
     "output_type": "stream",
     "text": [
      "\n"
     ]
    }
   ],
   "source": [
    "age_dist = []\n",
    "\n",
    "pca_transform = PCA(n_components=3).fit(data)\n",
    "\n",
    "for i in tqdm_notebook(range(len(r13)),desc='Done?'):\n",
    "    # temperature\n",
    "    teff = r13['TEFF'][i]\n",
    "    teff_err = r13['TEFF_ERR'][i]\n",
    "    \n",
    "    # photometry \n",
    "    ra = r13['RA'][i]\n",
    "    dec = r13['DEC'][i]\n",
    "    ks = r13['K'][i]\n",
    "    ks_err = r13['K_ERR'][i]\n",
    "    ak = r13['AK_TARG'][i]\n",
    "    \n",
    "    # abundances\n",
    "    mh = r13['M_H'][i]\n",
    "    mh_err = r13['M_H_ERR'][i]\n",
    "    cfe = r13['C_FE'][i]\n",
    "    cfe_err = r13['C_FE_ERR'][i]\n",
    "    nfe = r13['N_FE'][i]\n",
    "    nfe_err = r13['N_FE_ERR'][i]\n",
    "    feh = r13['FE_H'][i]\n",
    "    feh_err = r13['FE_H_ERR'][i]\n",
    "    \n",
    "    # surface gravity\n",
    "    lgg = r13['LOGG'][i]\n",
    "    lgg_err = r13['LOGG_ERR'][i]\n",
    "    \n",
    "    noise_ages = []\n",
    "    new = []\n",
    "    for j in range(100):\n",
    "       \n",
    "        # calculate noisy temperature\n",
    "        teff_new = add_noise(teff,teff_err) \n",
    "        lgteff_new = np.log10(teff_new)\n",
    "    \n",
    "        # Calculate noisy K magnitude\n",
    "        _, _, dist = afunc.LMCdisk_cart(ra,dec)\n",
    "        \n",
    "        ks_new = add_noise(ks,ks_err)\n",
    "            \n",
    "        absK_new = afunc.absmag(ks_new,dist) - ak\n",
    "            \n",
    "        # Calculate noisy Salaris correction\n",
    "        \n",
    "        x_C_new = sol_xm[0]*10**(add_noise(cfe,cfe_err)+\n",
    "                                 add_noise(feh,feh_err)-add_noise(mh,mh_err))\n",
    "        x_N_new = sol_xm[1]*10**(add_noise(nfe,nfe_err)+\n",
    "                                 add_noise(feh,feh_err)-add_noise(mh,mh_err))\n",
    "        \n",
    "        ffac_new = (x_C_new+x_N_new)/sum(sol_xm[0:2])\n",
    "        \n",
    "        mh_new = add_noise(mh,mh_err)\n",
    "        \n",
    "        # Calculate noisy surface gravity\n",
    "        lgg_new = add_noise(lgg,lgg_err)\n",
    "            \n",
    "        # calculate noisy age\n",
    "#         new.append(np.array([lgteff_new,absK_new,afunc.sal(mh_new,ffac_new),lgg_new]))\n",
    "        \n",
    "#     zs = pca_transform.transform(np.asarray(np.squeeze(new)))\n",
    "\n",
    "#     for l in range(len(zs)):\n",
    "        noise_ages.append(find_ages(lgteff_new,absK_new,afunc.sal(mh_new,ffac_new),lgg_new))\n",
    "    \n",
    "    age_dist.append(noise_ages)\n",
    "\n",
    "parages = [] \n",
    "devs = []\n",
    "for k in tqdm_notebook(range(len(age_dist))):\n",
    "    devs.append(afunc.mad(age_dist[k]))\n",
    "    parages.append(np.median(age_dist[k]))"
   ]
  },
  {
   "cell_type": "code",
   "execution_count": 105,
   "metadata": {},
   "outputs": [
    {
     "data": {
      "text/plain": [
       "(array([2.000e+00, 8.000e+00, 3.800e+01, 2.950e+02, 7.750e+02, 1.294e+03,\n",
       "        1.590e+02, 1.300e+01, 3.000e+00, 1.000e+00]),\n",
       " array([ 6.12914699,  6.93146137,  7.73377574,  8.53609012,  9.33840449,\n",
       "        10.14071887, 10.94303324, 11.74534762, 12.54766199, 13.34997637,\n",
       "        14.15229074]),\n",
       " <a list of 10 Patch objects>)"
      ]
     },
     "execution_count": 105,
     "metadata": {},
     "output_type": "execute_result"
    },
    {
     "data": {
      "image/png": "[encoded data removed]",
      "text/plain": [
       "<Figure size 864x432 with 1 Axes>"
      ]
     },
     "metadata": {
      "needs_background": "light"
     },
     "output_type": "display_data"
    }
   ],
   "source": [
    "plt.hist(parages)"
   ]
  },
  {
   "cell_type": "code",
   "execution_count": 106,
   "metadata": {},
   "outputs": [
    {
     "data": {
      "text/plain": [
       "(10000000, 10000000000000)"
      ]
     },
     "execution_count": 106,
     "metadata": {},
     "output_type": "execute_result"
    },
    {
     "data": {
      "image/png": "[encoded data removed]",
      "text/plain": [
       "<Figure size 864x720 with 2 Axes>"
      ]
     },
     "metadata": {
      "needs_background": "light"
     },
     "output_type": "display_data"
    }
   ],
   "source": [
    "plt.figure(figsize=[12,10])\n",
    "plt.scatter(10**np.asarray(parages)[r13_ind],10**pdfout['P_MEAN'][pdfout_ind],c=r13['LOGG'][r13_ind],\n",
    "                marker='+',cmap='nipy_spectral')\n",
    "plt.colorbar()\n",
    "plt.xscale('log')\n",
    "plt.yscale('log')\n",
    "plt.plot(10**np.array([7,8,9,10,11,12,13]),10**np.array([7,8,9,10,11,12,13]),c='k')\n",
    "plt.ylim(10**7,10**11)\n",
    "plt.xlim(10**7,10**13)"
   ]
  },
  {
   "cell_type": "code",
   "execution_count": null,
   "metadata": {},
   "outputs": [],
   "source": []
  }
 ],
 "metadata": {
  "kernelspec": {
   "display_name": "Python 3",
   "language": "python",
   "name": "python3"
  },
  "language_info": {
   "codemirror_mode": {
    "name": "ipython",
    "version": 3
   },
   "file_extension": ".py",
   "mimetype": "text/x-python",
   "name": "python",
   "nbconvert_exporter": "python",
   "pygments_lexer": "ipython3",
   "version": "3.7.6"
  }
 },
 "nbformat": 4,
 "nbformat_minor": 4
}
