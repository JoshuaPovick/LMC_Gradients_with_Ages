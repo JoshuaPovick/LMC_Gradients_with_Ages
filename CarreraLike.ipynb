{
 "cells": [
  {
   "cell_type": "code",
   "execution_count": 1,
   "metadata": {},
   "outputs": [],
   "source": [
    "##################################\n",
    "### Import the usual libraries ###\n",
    "##################################\n",
    "\n",
    "### Numpy\n",
    "import numpy as np\n",
    "\n",
    "### Astropy\n",
    "import astropy\n",
    "\n",
    "#Astropy FITS/Table handling\n",
    "from astropy.io import fits, ascii\n",
    "from astropy.table import Table, Column\n",
    "\n",
    "#astropy coorindates/units\n",
    "from astropy.coordinates import SkyCoord\n",
    "import astropy.constants as const\n",
    "import astropy.units as u\n",
    "\n",
    "### Pandas\n",
    "import pandas as pd\n",
    "\n",
    "### Matplotlib\n",
    "import matplotlib\n",
    "import matplotlib.pyplot as plt\n",
    "%matplotlib inline\n",
    "matplotlib.rcParams.update({'font.size': 18}) #make plots more readable\n",
    "\n",
    "# ### Yumi's RA/DEC ---> Magellanic Stream Coorindates\n",
    "import MagellanicStream as ms\n",
    "\n",
    "# ### Functions used in this code\n",
    "import age_functions as afunc\n",
    "\n",
    "### Stuff Writtten by A Really Cool Professor\n",
    "import dlnpyutils as dlpu\n",
    "\n",
    "### Other\n",
    "import warnings\n",
    "warnings.filterwarnings('ignore')\n",
    "\n",
    "from tqdm import tqdm_notebook\n",
    "\n",
    "### Age of Universe\n",
    "H0 = 74.03*(u.km/u.s)/u.Mpc\n",
    "hertz = H0.to(u.km/u.s/u.pc).to(u.km/u.s/u.km)\n",
    "tage = (1/hertz).to(u.yr)\n",
    "ageU = tage.value"
   ]
  },
  {
   "cell_type": "code",
   "execution_count": 2,
   "metadata": {},
   "outputs": [],
   "source": [
    "###################\n",
    "### Import Data ###\n",
    "###################\n",
    "\n",
    "# parsec\n",
    "''' Ages used 8 to 10.1 steps 0.15'''\n",
    "''' Metallicity used -2.6 to 0.1 steps 0.099'''\n",
    "\n",
    "parsecall = ascii.read('/Users/joshpovick/Desktop/Research/LMC_Ages/logisochrones.dat', \\\n",
    "                    format='basic', delimiter='\\s')\n",
    "\n",
    "rgb = np.where(parsecall['label']==3)\n",
    "parsec = parsecall[rgb]\n",
    "\n",
    "# r13\n",
    "r13 = fits.getdata('/Users/joshpovick/Desktop/Research/LMC_Ages/lmc_rgbmembers.r13-l33-58672.fits.gz')\n",
    "cln = np.where((r13['FE_H']>-9999.0)&(r13['AK_TARG']>-100.0)&(r13['LOGG']>=0.0)&\n",
    "                (r13['M_H_ERR']>-100.0)&(r13['C_FE']>-100.0)&(r13['N_FE']>-100.0))\n",
    "r13 = r13[cln]\n",
    "\n",
    "# APOKASC\n",
    "kasc = fits.getdata('/Users/joshpovick/Desktop/Research/LMC_Ages/APOKASC_cat_v6.6.1.fits.gz')"
   ]
  },
  {
   "cell_type": "code",
   "execution_count": 5,
   "metadata": {},
   "outputs": [],
   "source": [
    "import statsmodels.api as sm\n",
    "\n",
    "def ols_fit(data,y):\n",
    "    '''\n",
    "    Calculate OLS fit of a line aking use of statsmodels.api\n",
    "    \n",
    "    Parameters:\n",
    "    ----------\n",
    "        data: exog of line\n",
    "        y: endog of line\n",
    "    \n",
    "    Returns:\n",
    "    -------\n",
    "        p: fit params with constant first\n",
    "    '''\n",
    "    \n",
    "    # fit model\n",
    "    model = data.T\n",
    "    model = sm.add_constant(model)\n",
    "    model_fit = sm.OLS(y,model).fit()\n",
    "    print(model_fit.summary())\n",
    "    p = model_fit.params\n",
    "    return p"
   ]
  },
  {
   "cell_type": "code",
   "execution_count": 6,
   "metadata": {},
   "outputs": [
    {
     "data": {
      "text/plain": [
       "<TableColumns names=('Zini','logAge','Mini','int_IMF','Mass','logL','logTe','logg','label','McoreTP','C_O','period0','period1','pmode','Mloss','tau1m','X','Y','Xc','Xn','Xo','Cexcess','Z','mbolmag','Jmag','Hmag','Ksmag')>"
      ]
     },
     "execution_count": 6,
     "metadata": {},
     "output_type": "execute_result"
    }
   ],
   "source": [
    "parsec.columns"
   ]
  },
  {
   "cell_type": "code",
   "execution_count": 9,
   "metadata": {},
   "outputs": [
    {
     "name": "stdout",
     "output_type": "stream",
     "text": [
      "                            OLS Regression Results                            \n",
      "==============================================================================\n",
      "Dep. Variable:                      y   R-squared:                       0.994\n",
      "Model:                            OLS   Adj. R-squared:                  0.994\n",
      "Method:                 Least Squares   F-statistic:                 4.129e+05\n",
      "Date:                Mon, 06 Apr 2020   Prob (F-statistic):               0.00\n",
      "Time:                        15:38:14   Log-Likelihood:                 28703.\n",
      "No. Observations:               16121   AIC:                        -5.739e+04\n",
      "Df Residuals:                   16113   BIC:                        -5.733e+04\n",
      "Df Model:                           7                                         \n",
      "Covariance Type:            nonrobust                                         \n",
      "==============================================================================\n",
      "                 coef    std err          t      P>|t|      [0.025      0.975]\n",
      "------------------------------------------------------------------------------\n",
      "const       1753.1119     91.654     19.127      0.000    1573.460    1932.764\n",
      "x1         -1461.6813     75.622    -19.329      0.000   -1609.909   -1313.453\n",
      "x2             1.1222      0.002    672.866      0.000       1.119       1.125\n",
      "x3             0.2257      0.006     38.402      0.000       0.214       0.237\n",
      "x4            -2.7618      0.008   -345.034      0.000      -2.778      -2.746\n",
      "x5           409.4518     20.800     19.685      0.000     368.681     450.222\n",
      "x6             0.0537      0.001     38.497      0.000       0.051       0.056\n",
      "x7           -38.1397      1.907    -19.996      0.000     -41.878     -34.401\n",
      "==============================================================================\n",
      "Omnibus:                     2167.395   Durbin-Watson:                   0.043\n",
      "Prob(Omnibus):                  0.000   Jarque-Bera (JB):             3187.786\n",
      "Skew:                           1.005   Prob(JB):                         0.00\n",
      "Kurtosis:                       3.841   Cond. No.                     1.95e+07\n",
      "==============================================================================\n",
      "\n",
      "Warnings:\n",
      "[1] Standard Errors assume that the covariance matrix of the errors is correctly specified.\n",
      "[2] The condition number is large, 1.95e+07. This might indicate that there are\n",
      "strong multicollinearity or other numerical problems.\n"
     ]
    }
   ],
   "source": [
    "carrera = np.array([parsec['logTe'],parsec['Ksmag'],np.log10(parsec['Zini']/0.02),parsec['logg'],\n",
    "                    parsec['logTe']**2, np.log10(parsec['Zini']/0.02)**2,parsec['logTe']**3])\n",
    "p = ols_fit(carrera,parsec['logAge'])\n",
    "\n",
    "def carrera_ages(lt,k,feh,lg):\n",
    "    return p[0]+p[1]*lt+p[2]*k+p[3]*feh+p[4]*lg+p[5]*lt**2+p[6]*feh**2+p[7]*lt**3"
   ]
  },
  {
   "cell_type": "code",
   "execution_count": 35,
   "metadata": {},
   "outputs": [],
   "source": [
    "######################\n",
    "### Calculate Ages ###\n",
    "######################\n",
    "\n",
    "abd = {'C':8.39,'N':7.78,'O':8.66,'Mg':7.53,'Ca':6.31,'S':7.14,'Si':7.51,'Fe':7.45}\n",
    "keys = list(abd.keys())\n",
    "\n",
    "sol_2_H = []\n",
    "for i in keys:\n",
    "    sol_2_H.append(abd[i]-12.0)\n",
    "    \n",
    "sol_xm  = 10**np.asarray(sol_2_H)/sum(10**np.asarray(sol_2_H))\n",
    "x_C = []\n",
    "x_N = []\n",
    "x_O = []\n",
    "x_Mg = []\n",
    "x_Ca = []\n",
    "x_S = []\n",
    "x_Si = []\n",
    "x_Fe = []\n",
    "\n",
    "for i in range(len(r13)):\n",
    "    x_C.append(sol_xm[0]*10**(r13['C_FE']+r13['FE_H']-r13['M_H']))\n",
    "    x_N.append(sol_xm[1]*10**(r13['N_FE']+r13['FE_H']-r13['M_H']))\n",
    "    x_O.append(sol_xm[2]*10**(r13['O_FE']+r13['FE_H']-r13['M_H']))\n",
    "    x_Mg.append(sol_xm[3]*10**(r13['Mg_FE']+r13['FE_H']-r13['M_H']))\n",
    "    x_Ca.append(sol_xm[4]*10**(r13['Ca_FE']+r13['FE_H']-r13['M_H']))\n",
    "    x_S.append(sol_xm[5]*10**(r13['S_FE']+r13['FE_H']-r13['M_H']))\n",
    "    x_Si.append(sol_xm[6]*10**(r13['SI_FE']+r13['FE_H']-r13['M_H']))\n",
    "    x_Fe.append(sol_xm[7]*10**(r13['FE_H']-r13['M_H']))\n",
    "    \n",
    "facts = []\n",
    "factsalp = []\n",
    "factsCNO = []\n",
    "factsCN = []\n",
    "factsCO = []\n",
    "for j in range(len(r13)):\n",
    "    numerCN = x_C[j]+x_N[j]\n",
    "    denomCN = sum(sol_xm[0:2])\n",
    "    \n",
    "    numerCO = x_C[j]+x_O[j]\n",
    "    denomCO = sol_xm[0]+sol_xm[2]\n",
    "factsCN.append(numerCN/denomCN)\n",
    "factsCO.append(numerCO/denomCO)\n",
    "    \n",
    "factsCN = factsCN[0]\n",
    "# factsCO = factsCO[0]\n",
    "\n",
    "metscorr = np.log10(0.638*(np.asarray(factsCN)+0.362))\n",
    "\n",
    "_, _, stardist = afunc.LMCdisk_cart(r13['RA'],r13['DEC'])\n",
    "corabsK = afunc.absmag(r13['K'],stardist)-r13['AK_TARG']\n",
    "c_ages = carrera_ages(np.log10(r13['TEFF']),corabsK,afunc.sal(r13['M_H'],metscorr),r13['LOGG'])"
   ]
  },
  {
   "cell_type": "code",
   "execution_count": 22,
   "metadata": {},
   "outputs": [],
   "source": [
    "####################################\n",
    "### Get Uncertainties: Add Noise ###\n",
    "####################################\n",
    "\n",
    "'''in alpha w/o C and N, out alpha w/ C and N'''\n",
    "\n",
    "def noisydata(lgT,lgTERR,ks,ksERR,mh,mhERR,cfe,cfeERR,nfe,nfeERR,feh,fehERR,lgg,lggERR):\n",
    "    carbon = 0.28115244582676185 # derived in initial age calc\n",
    "    nitrogen = 0.06901474154376043 # derived in initial age calc\n",
    "    Tnoise = np.random.normal(0, 0.434*(lgTERR/lgT)) #logTeff\n",
    "    Knoise = np.random.normal(0, ksERR) #Ks\n",
    "    MHnoise = np.random.normal(0, mhERR) #[M/H]\n",
    "    \n",
    "    cm = cfe + feh - mh\n",
    "    nm = nfe + feh - mh\n",
    "    CMERR = np.sqrt((cfeERR)**2+(fehERR)**2+(mhERR)**2)\n",
    "    NMERR = np.sqrt((nfeERR)**2+(fehERR)**2+(mhERR)**2)\n",
    "    \n",
    "    expcarERR = 10**(cm)*np.log(10)*CMERR\n",
    "    expnitERR = 10**(nm)*np.log(10)*NMERR\n",
    "    \n",
    "    xcarb = carbon*10**(cm)\n",
    "    xnitr = nitrogen*10**(nm)\n",
    "    fac = (xcarb+xnitr)/(carbon+nitrogen) #factor from Salaris correction\n",
    "    facERR = np.sqrt((expcarERR)**2+(expnitERR)**2)/(carbon+nitrogen)\n",
    "    \n",
    "    facnoise = np.random.normal(0, np.absolute(0.434*(facERR/fac)))\n",
    "    \n",
    "    lggnoise = np.random.normal(0, lggERR) #logg\n",
    "    Tnew = lgT + ((-1)**np.random.randint(2))*Tnoise\n",
    "    Knew = ks + ((-1)**np.random.randint(2))*Knoise\n",
    "    MHnew = mh + ((-1)**np.random.randint(2))*MHnoise\n",
    "    facnew = fac + ((-1)**np.random.randint(2))*facnoise\n",
    "    lggnew = lgg + ((-1)**np.random.randint(2))*lggnoise\n",
    "    return Tnew, Knew, MHnew, facnew, lggnew"
   ]
  },
  {
   "cell_type": "code",
   "execution_count": 37,
   "metadata": {},
   "outputs": [
    {
     "data": {
      "application/vnd.jupyter.widget-view+json": {
       "model_id": "",
       "version_major": 2,
       "version_minor": 0
      },
      "text/plain": [
       "HBox(children=(IntProgress(value=0, description='Done?', max=2588, style=ProgressStyle(description_width='init…"
      ]
     },
     "metadata": {},
     "output_type": "display_data"
    },
    {
     "name": "stdout",
     "output_type": "stream",
     "text": [
      "\r"
     ]
    }
   ],
   "source": [
    "#######################################\n",
    "### Get Uncertainties: Random Error ###\n",
    "#######################################\n",
    "\n",
    "randdevs = []\n",
    "\n",
    "for i in tqdm_notebook(range(len(r13)),desc='Done?',leave=False):\n",
    "    lgT = np.log10(r13['TEFF'][i])\n",
    "    lgTERR = 0.434*(np.log(r13['TEFF_ERR'][i])/np.log10(r13['TEFF'][i]))\n",
    "    ks = corabsK[i]\n",
    "    ksERR = r13['K_ERR'][i]\n",
    "    mh = r13['M_H'][i]\n",
    "    mhERR = r13['M_H_ERR'][i]\n",
    "    cfe = r13['C_FE'][i]\n",
    "    cfeERR = r13['C_FE_ERR'][i]\n",
    "    nfe = r13['N_FE'][i]\n",
    "    nfeERR = r13['N_FE_ERR'][i]\n",
    "    feh = r13['FE_H'][i]\n",
    "    fehERR = r13['FE_H_ERR'][i]\n",
    "    lgg = r13['LOGG'][i]\n",
    "    lggERR = r13['LOGG_ERR'][i]\n",
    "    \n",
    "    ages = []\n",
    "    for j in range(1000):\n",
    "        nlgT,nks,nmh,nfac,nlgg = noisydata(lgT,lgTERR,ks,ksERR,mh,mhERR,cfe,cfeERR,nfe,nfeERR,feh,\\\n",
    "                                          fehERR,lgg,lggERR)\n",
    "        ages.append(carrera_ages(nlgT,nks,afunc.sal(nmh,nfac),nlgg))\n",
    "    \n",
    "    randdevs.append(afunc.mad(ages))"
   ]
  },
  {
   "cell_type": "code",
   "execution_count": null,
   "metadata": {},
   "outputs": [],
   "source": []
  },
  {
   "cell_type": "code",
   "execution_count": 61,
   "metadata": {},
   "outputs": [
    {
     "data": {
      "image/png": "[encoded data removed]",
      "text/plain": [
       "<Figure size 864x720 with 2 Axes>"
      ]
     },
     "metadata": {
      "needs_background": "light"
     },
     "output_type": "display_data"
    }
   ],
   "source": [
    "plt.figure(figsize=[12,10])\n",
    "plt.scatter(10**np.asarray(c_ages),randdevs,marker='+',c=r13['FE_H'],cmap='jet_r')\n",
    "plt.colorbar()\n",
    "plt.axvline(10**(np.log10(ageU)+np.median(randdevs)),c='r')\n",
    "plt.axvline(10**(np.log10(ageU)),c='k')\n",
    "plt.xscale('log')\n",
    "plt.ylim(0.15,0.4)\n",
    "plt.title(r'Random Uncertainties, Color as [Fe/H]')\n",
    "plt.xlabel(r'Age [yr]')\n",
    "plt.ylabel(r'Log(Age) Uncertainty ')\n",
    "plt.show()"
   ]
  },
  {
   "cell_type": "code",
   "execution_count": 64,
   "metadata": {},
   "outputs": [
    {
     "data": {
      "text/plain": [
       "0.16267387944358577"
      ]
     },
     "execution_count": 64,
     "metadata": {},
     "output_type": "execute_result"
    }
   ],
   "source": [
    "len(np.squeeze(np.where(c_ages>np.log10(ageU)+np.median(randdevs))))/len(c_ages)"
   ]
  },
  {
   "cell_type": "code",
   "execution_count": 59,
   "metadata": {},
   "outputs": [
    {
     "data": {
      "text/plain": [
       "2011.2853155656621"
      ]
     },
     "execution_count": 59,
     "metadata": {},
     "output_type": "execute_result"
    }
   ],
   "source": [
    "10**(c_ages[np.asarray(randdevs).argmin()]+randdevs[np.asarray(randdevs).argmin()])"
   ]
  },
  {
   "cell_type": "code",
   "execution_count": null,
   "metadata": {},
   "outputs": [],
   "source": []
  }
 ],
 "metadata": {
  "kernelspec": {
   "display_name": "Python 3",
   "language": "python",
   "name": "python3"
  },
  "language_info": {
   "codemirror_mode": {
    "name": "ipython",
    "version": 3
   },
   "file_extension": ".py",
   "mimetype": "text/x-python",
   "name": "python",
   "nbconvert_exporter": "python",
   "pygments_lexer": "ipython3",
   "version": "3.7.1"
  }
 },
 "nbformat": 4,
 "nbformat_minor": 2
}
